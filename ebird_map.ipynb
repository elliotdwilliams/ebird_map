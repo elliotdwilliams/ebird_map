{
 "cells": [
  {
   "cell_type": "markdown",
   "id": "af2b3f76-76b7-4049-9afd-e821cb9921e9",
   "metadata": {},
   "source": [
    "# MyEBird location map\n",
    "\n",
    "This notebook will guide you through creating visualizations of the places where you have birded.  The goal is to generate map visualizations of the locations where you have submitted eBird checklists.\n",
    "\n",
    "To use this notebook, you will need to have downloaded your data from eBird.  That data should be in CSV format (which is how it comes when you download it from eBird), and should be in the same folder as this jupyter notebook."
   ]
  },
  {
   "cell_type": "markdown",
   "id": "85643f8d-eb1e-4e81-a113-29f18ba5ee44",
   "metadata": {},
   "source": [
    "### Setting up and importing our data\n",
    "\n",
    "The first thing we need to do is download the python libraries needed for this project."
   ]
  },
  {
   "cell_type": "code",
   "execution_count": null,
   "id": "306c6f3f-6eea-4973-ac9c-13bc2990998b",
   "metadata": {},
   "outputs": [],
   "source": [
    "import pandas as pd\n",
    "import plotly.express as px\n",
    "import plotly.graph_objects as go"
   ]
  },
  {
   "cell_type": "markdown",
   "id": "ddc7fc12-2c97-4a41-925e-bc35872ab508",
   "metadata": {},
   "source": [
    "Next, we'll import your eBird data into a dataframe that we can work with.  \n",
    "\n",
    "Change the filename in the cell below to match the filename of your eBird data."
   ]
  },
  {
   "cell_type": "code",
   "execution_count": null,
   "id": "10bd984a-b731-4145-aa9a-3ee3fa62ed44",
   "metadata": {},
   "outputs": [],
   "source": [
    "# Import data and create dataframe\n",
    "df = pd.read_csv('MyEBirdData_2023-12-30.csv')"
   ]
  },
  {
   "cell_type": "code",
   "execution_count": null,
   "id": "d6f20c8f-c6c8-4f5f-8e52-0f29d05ee41f",
   "metadata": {},
   "outputs": [],
   "source": [
    "# Print info about the dataframe, to check it looks correct (This step is optional, but helps to make sure the data imported okay)\n",
    "print(df.info())"
   ]
  },
  {
   "cell_type": "markdown",
   "id": "b8023dd8-9f5e-4731-8773-280e9de073c3",
   "metadata": {},
   "source": [
    "### Data preparation\n",
    "\n",
    "The eBird data contains a lot of information that we don't need.  The only columns we care about are: Submission ID (a uniq id for a checklist), state/province, county, location id, location, latitutde, longitude, and date.  So we will create a new dataframe (\"df_locations\") that only includes those columns.\n",
    "\n",
    "We also only want one row for each checklist.  The eBird data includes a row for every species recorded in each checklist, but we are only interested in the checklists themselves.  So we will drop duplicates based on the Submission ID columns, so the dataframe will only include one row for each checklist."
   ]
  },
  {
   "cell_type": "code",
   "execution_count": null,
   "id": "9c148c03-edf2-44aa-993c-1da2904cd73c",
   "metadata": {},
   "outputs": [],
   "source": [
    "# Create new df with desired columns, and drop duplicates based on Submission ID\n",
    "df_locations = df.iloc[:, [0,5,6,7,8,9,10,11]].drop_duplicates(subset='Submission ID')\n",
    "\n",
    "# Display first 5 rows (again, this is optional, but it helps see the data that we have)\n",
    "print(df_locations.head())"
   ]
  },
  {
   "cell_type": "markdown",
   "id": "840b3bb0-f3d6-4765-89be-29373f737fd5",
   "metadata": {},
   "source": [
    "Now that we have the data about checklists, including locations and dates, we can start seeing what our most visited birding locations are.\n",
    "\n",
    "Let's view the most visited locations by counting the number of times each location name appears in df_locations."
   ]
  },
  {
   "cell_type": "code",
   "execution_count": null,
   "id": "cb657ba5-ab34-4954-99af-16743dddee68",
   "metadata": {},
   "outputs": [],
   "source": [
    "# Count number of occurrences of each location and sort by number of occurrences\n",
    "df_locations.Location.value_counts(normalize=False, sort=True, ascending=False, bins=None, dropna=True)"
   ]
  },
  {
   "cell_type": "markdown",
   "id": "92a5df02-db37-4bb2-a0d0-59ab1fec0550",
   "metadata": {},
   "source": [
    "We're going to want to separate the checklists by year, but the existing data only have a column with the full date.  Let's create a new column called \"Year\" but taking the first four chatacters of the Date column."
   ]
  },
  {
   "cell_type": "code",
   "execution_count": null,
   "id": "243d9364-5a77-4e34-8bb9-a6dd45debd42",
   "metadata": {},
   "outputs": [],
   "source": [
    "# Add new column to df_locations by using the first four characters of the Date column\n",
    "df_locations['Year'] = df_locations['Date'].apply(lambda x : x[:4])\n",
    "\n",
    "# Again, print the first five rows to check that the new column looks correct\n",
    "print(df_locations.sort_values('Location ID').head())"
   ]
  },
  {
   "cell_type": "markdown",
   "id": "e95d7682-0894-4a0e-a3dd-a999b8a7549c",
   "metadata": {},
   "source": [
    "Okay, now is where things start to get complicated.  What we want is to have a list of the locations, with all of their location data (like state, county, latitude, and longitude), and to include a new column with the number of checklists at that location.\n",
    "\n",
    "We're going to create two new dataframes: one with just the location ID, year, and number of checklists at that location per year (we'll call this one \"df_loc_count\"); and one with all of the data about each location (we'll call this one \"df_loc_data\").  Then we'll combine those together, using the location ID as the matching point.\n",
    "\n",
    "Create two new dataframes: one with number of checklists per location per year, and one with the data about each location. Then we'll combine those two to get the final dataframe.\n",
    "\n",
    "*There is almost certainly a more efficient way to do this with pandas, but I haven't been able to figure it out.*"
   ]
  },
  {
   "cell_type": "code",
   "execution_count": null,
   "id": "94597350-a933-4332-a3a2-6e500ebcb5b5",
   "metadata": {},
   "outputs": [],
   "source": [
    "# Create df_loc_count by using groupby on the Location ID and Year columns\n",
    "df_loc_count = df_locations.groupby([\"Location ID\",\"Year\"], as_index=False)[\"Submission ID\"].count()\n",
    "\n",
    "# Rename the \"Submission ID\" column to \"Checklists\", because it now includes the number of checklists at each location per year\n",
    "df_loc_count = df_loc_count.rename(columns={'Submission ID': 'Checklists'})\n",
    "\n",
    "# Print the first 10 rows and overall shape of the dataframe to check that everything looks right\n",
    "print(df_loc_count.sort_values('Location ID').head(10))\n",
    "print(df_loc_count.shape)"
   ]
  },
  {
   "cell_type": "code",
   "execution_count": null,
   "id": "020447a1-3efe-40e4-99c5-b23767e0ebe6",
   "metadata": {},
   "outputs": [],
   "source": [
    "# Create df_loc_data by selecting the desired columns and deduping on Location ID so that we have one row per location\n",
    "df_loc_data = df_locations.iloc[:, [3,4,1,2,5,6]].drop_duplicates(subset='Location ID')\n",
    "\n",
    "# As always, display the first 10 rows and overall shape of the dataframe to confirm\n",
    "print(df_loc_data.sort_values('Location ID').head(10))\n",
    "print(df_loc_data.shape)"
   ]
  },
  {
   "cell_type": "code",
   "execution_count": null,
   "id": "222909a1-243c-4716-8289-40618eeaff2f",
   "metadata": {},
   "outputs": [],
   "source": [
    "# Merge df_loc_count (count of checklists per location) with df_loc_data (geo data about each location)\n",
    "df_merge2 = pd.merge(df_loc_count, df_loc_data, how=\"left\", on=\"Location ID\")\n",
    "df_merge2 = df_merge2.sort_values(['Year','Location ID'])\n",
    "\n",
    "# You know the drill: display some info to confirm that things look right\n",
    "print(df_merge2.head(10))\n",
    "print(df_merge2.shape)"
   ]
  },
  {
   "cell_type": "markdown",
   "id": "8b1e5eaa-2554-49a8-ac27-6bb9572fcaff",
   "metadata": {},
   "source": [
    "### Let's make some maps!\n",
    "\n",
    "Now we've got the data in the format that we want it.  Now we can start making some visualizations.\n",
    "\n",
    "We'll start with just a global map of all of the locations where you have birded, separated by year.  The color of the dot corresponds to how many checklists you have submitted at that location.\n",
    "\n",
    "Press play to see the map animate and show your birding over time, or select a year to see the map for that year.  You can also zoom in, and hover over a dot to see information about that location."
   ]
  },
  {
   "cell_type": "code",
   "execution_count": null,
   "id": "b96342fb-3395-4f09-bbb3-33b82bf7cdb0",
   "metadata": {},
   "outputs": [],
   "source": [
    "# Create world map figure\n",
    "fig_world = px.scatter_geo(df_merge2, lat='Latitude', lon='Longitude', title='ebird checklists', size=df_merge2['Checklists']**0.5, hover_name='Location', color='Checklists',\n",
    "                     animation_frame='Year', \n",
    "                     height=600)\n",
    "\n",
    "# Styling for world map\n",
    "fig_world.update_geos(projection_type=\"natural earth\",\n",
    "               showcountries=True,\n",
    "               showsubunits=True)\n",
    "fig_world.show()"
   ]
  },
  {
   "cell_type": "markdown",
   "id": "6c1e3ceb-e842-43fd-96f0-4699175511cd",
   "metadata": {},
   "source": [
    "If you want to save that map, run the cell below to save it as an HTML file."
   ]
  },
  {
   "cell_type": "code",
   "execution_count": null,
   "id": "9481fbd4-6c6c-45be-be28-9bda81761de7",
   "metadata": {},
   "outputs": [],
   "source": [
    "# Save world map figure as html file\n",
    "fig_world.write_html(\"world_map.html\")"
   ]
  },
  {
   "cell_type": "markdown",
   "id": "96d70c59-dad5-4054-89eb-c3b5e0b73777",
   "metadata": {},
   "source": [
    "I live in the US, so I'd like to see just my birding data for that country (since it's where I do most of my birding).  So the cell below creates another map, just scoped to the US."
   ]
  },
  {
   "cell_type": "code",
   "execution_count": null,
   "id": "e2043ec9-1c06-4431-a2e3-3e1d5ea808d3",
   "metadata": {},
   "outputs": [],
   "source": [
    "# Create US map figure\n",
    "fig_usa = px.scatter_geo(df_merge2, lat='Latitude', lon='Longitude', title='ebird checklists', size=df_merge2['Checklists']**0.5, hover_name='Location', color='Checklists',\n",
    "                     animation_frame='Year', \n",
    "                     height=600)\n",
    "\n",
    "# Styling for US map\n",
    "fig_usa.update_geos(scope='usa',\n",
    "                showcountries=True,\n",
    "                showsubunits=True)\n",
    "fig_usa.show()"
   ]
  },
  {
   "cell_type": "markdown",
   "id": "2133ffed-8eef-4236-ab4f-d7b6d8d6b4bf",
   "metadata": {},
   "source": [
    "Again, if you want to save that map, the cell below will save it as an HTML file."
   ]
  },
  {
   "cell_type": "code",
   "execution_count": null,
   "id": "9a8ee9b6-57bf-4bc3-a1bf-3f974042e49f",
   "metadata": {},
   "outputs": [],
   "source": [
    "# Save US map figure as html file\n",
    "fig.write_html(\"usa_map.html\")"
   ]
  },
  {
   "cell_type": "markdown",
   "id": "f245012e-2e2a-4713-bb98-765c6c174a82",
   "metadata": {},
   "source": [
    "🐦 And that's it!  I hope you enjoy seeing a visualization representation of your birding!"
   ]
  }
 ],
 "metadata": {
  "kernelspec": {
   "display_name": "Python 3 (ipykernel)",
   "language": "python",
   "name": "python3"
  },
  "language_info": {
   "codemirror_mode": {
    "name": "ipython",
    "version": 3
   },
   "file_extension": ".py",
   "mimetype": "text/x-python",
   "name": "python",
   "nbconvert_exporter": "python",
   "pygments_lexer": "ipython3",
   "version": "3.11.2"
  }
 },
 "nbformat": 4,
 "nbformat_minor": 5
}
