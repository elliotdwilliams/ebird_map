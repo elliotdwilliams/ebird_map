{
 "cells": [
  {
   "cell_type": "markdown",
   "id": "af2b3f76-76b7-4049-9afd-e821cb9921e9",
   "metadata": {},
   "source": [
    "# ebird geocoding project\n",
    "\n",
    "My ultimate goal is to make a visualization of the checklist locations in a person's ebird data.  Right now, I'm using this notebook to play with manipulating the data using pandas, then I will move into the geocoding and visualization parts."
   ]
  },
  {
   "cell_type": "code",
   "execution_count": 1,
   "id": "306c6f3f-6eea-4973-ac9c-13bc2990998b",
   "metadata": {},
   "outputs": [],
   "source": [
    "import pandas as pd\n",
    "import plotly.express as px"
   ]
  },
  {
   "cell_type": "markdown",
   "id": "ddc7fc12-2c97-4a41-925e-bc35872ab508",
   "metadata": {},
   "source": [
    "Import the ebird data and view some basic info to check it"
   ]
  },
  {
   "cell_type": "code",
   "execution_count": 2,
   "id": "10bd984a-b731-4145-aa9a-3ee3fa62ed44",
   "metadata": {},
   "outputs": [],
   "source": [
    "df = pd.read_csv('MyEBirdData_2023-09-06.csv')"
   ]
  },
  {
   "cell_type": "code",
   "execution_count": 3,
   "id": "d6f20c8f-c6c8-4f5f-8e52-0f29d05ee41f",
   "metadata": {},
   "outputs": [
    {
     "name": "stdout",
     "output_type": "stream",
     "text": [
      "<class 'pandas.core.frame.DataFrame'>\n",
      "RangeIndex: 3310 entries, 0 to 3309\n",
      "Data columns (total 23 columns):\n",
      " #   Column                  Non-Null Count  Dtype  \n",
      "---  ------                  --------------  -----  \n",
      " 0   Submission ID           3310 non-null   object \n",
      " 1   Common Name             3310 non-null   object \n",
      " 2   Scientific Name         3310 non-null   object \n",
      " 3   Taxonomic Order         3310 non-null   int64  \n",
      " 4   Count                   3310 non-null   object \n",
      " 5   State/Province          3310 non-null   object \n",
      " 6   County                  3310 non-null   object \n",
      " 7   Location ID             3310 non-null   object \n",
      " 8   Location                3310 non-null   object \n",
      " 9   Latitude                3310 non-null   float64\n",
      " 10  Longitude               3310 non-null   float64\n",
      " 11  Date                    3310 non-null   object \n",
      " 12  Time                    3310 non-null   object \n",
      " 13  Protocol                3310 non-null   object \n",
      " 14  Duration (Min)          3262 non-null   float64\n",
      " 15  All Obs Reported        3310 non-null   int64  \n",
      " 16  Distance Traveled (km)  3028 non-null   float64\n",
      " 17  Area Covered (ha)       0 non-null      float64\n",
      " 18  Number of Observers     3310 non-null   int64  \n",
      " 19  Breeding Code           63 non-null     object \n",
      " 20  Observation Details     323 non-null    object \n",
      " 21  Checklist Comments      1024 non-null   object \n",
      " 22  ML Catalog Numbers      0 non-null      float64\n",
      "dtypes: float64(6), int64(3), object(14)\n",
      "memory usage: 594.9+ KB\n",
      "None\n"
     ]
    }
   ],
   "source": [
    "print(df.info())"
   ]
  },
  {
   "cell_type": "markdown",
   "id": "b8023dd8-9f5e-4731-8773-280e9de073c3",
   "metadata": {},
   "source": [
    "The only columns I care about right now are: Submission ID (a uniq id for a checklist), state/province, county, location id, location, lat, long, date.  So if I drop all other columns, and then dedup on submission ID, I should have a list of each location and when I visited it. (I think?)"
   ]
  },
  {
   "cell_type": "code",
   "execution_count": 4,
   "id": "9c148c03-edf2-44aa-993c-1da2904cd73c",
   "metadata": {},
   "outputs": [
    {
     "name": "stdout",
     "output_type": "stream",
     "text": [
      "  Submission ID State/Province   County Location ID  \\\n",
      "0     S92964074          US-TX  Aransas    L1096078   \n",
      "1     S99552108          US-TX  Aransas    L1096078   \n",
      "2     S99599243          US-TX  Aransas     L896338   \n",
      "3     S92918390          US-TX  Aransas     L662369   \n",
      "4     S69502261          US-TX  Bastrop   L11524553   \n",
      "\n",
      "                                            Location   Latitude  Longitude  \\\n",
      "0      Goose Island SP--Big Tree/Lamar Beach rd area  28.149768 -96.976254   \n",
      "1      Goose Island SP--Big Tree/Lamar Beach rd area  28.149768 -96.976254   \n",
      "2                                 Holiday Beach Pond  28.162241 -96.996725   \n",
      "3                               Rockport- Little Bay  28.035925 -97.042043   \n",
      "4  199 Wilbarger Bend Rd, Bastrop US-TX 30.16797,...  30.167966 -97.418399   \n",
      "\n",
      "         Date  \n",
      "0  2021-08-08  \n",
      "1  2021-12-27  \n",
      "2  2021-12-28  \n",
      "3  2021-08-07  \n",
      "4  2020-05-23  \n"
     ]
    }
   ],
   "source": [
    "df_locations = df.iloc[:, [0,5,6,7,8,9,10,11]].drop_duplicates(subset='Submission ID')\n",
    "print(df_locations.head())"
   ]
  },
  {
   "cell_type": "markdown",
   "id": "840b3bb0-f3d6-4765-89be-29373f737fd5",
   "metadata": {},
   "source": [
    "View the most visited locations, just for fun."
   ]
  },
  {
   "cell_type": "code",
   "execution_count": 5,
   "id": "cb657ba5-ab34-4954-99af-16743dddee68",
   "metadata": {},
   "outputs": [
    {
     "data": {
      "text/plain": [
       "Location\n",
       "Commons Ford Ranch Metro Park                          11\n",
       "Dittmar Park                                           10\n",
       "Southeast Greenway, Mueller                             7\n",
       "Nicholas Dawson Park                                    5\n",
       "Zilker Metro Park--Barton Springs area                  5\n",
       "                                                       ..\n",
       "Rio Grande Valley SP--Tingley Beach bosque ponds        1\n",
       "Hillside Gardens (Edinburgh)                            1\n",
       "Green Park                                              1\n",
       "Dunkeld area                                            1\n",
       "629 Caroline St, Key West US-FL 24.55982, -81.80228     1\n",
       "Name: count, Length: 211, dtype: int64"
      ]
     },
     "execution_count": 5,
     "metadata": {},
     "output_type": "execute_result"
    }
   ],
   "source": [
    "df_locations.Location.value_counts(normalize=False, sort=True, ascending=False, bins=None, dropna=True)"
   ]
  },
  {
   "cell_type": "markdown",
   "id": "92a5df02-db37-4bb2-a0d0-59ab1fec0550",
   "metadata": {},
   "source": [
    "Add new column for Year"
   ]
  },
  {
   "cell_type": "code",
   "execution_count": 6,
   "id": "243d9364-5a77-4e34-8bb9-a6dd45debd42",
   "metadata": {},
   "outputs": [
    {
     "name": "stdout",
     "output_type": "stream",
     "text": [
      "    Submission ID State/Province   County Location ID  \\\n",
      "154     S99579999          US-TX  Calhoun    L1021344   \n",
      "30     S141933869         GB-ENG   London   L10466555   \n",
      "23     S135633155          US-TX   Travis    L1079595   \n",
      "22     S113490984          US-TX   Travis    L1079595   \n",
      "44      S92555566          US-NY   Monroe     L109138   \n",
      "\n",
      "                                      Location   Latitude  Longitude  \\\n",
      "154  Aransas NWR--Wildlife Tower (Calhoun Co.)  28.250401 -96.789433   \n",
      "30                   Hyde Park--The Serpentine  51.505163  -0.164537   \n",
      "23                          Bauerle Ranch Park  30.161974 -97.843380   \n",
      "22                          Bauerle Ranch Park  30.161974 -97.843380   \n",
      "44               Braddock Bay Park--Hawk Watch  43.303650 -77.716303   \n",
      "\n",
      "           Date  Year  \n",
      "154  2021-12-28  2021  \n",
      "30   2023-06-18  2023  \n",
      "23   2023-04-30  2023  \n",
      "22   2022-06-21  2022  \n",
      "44   2021-07-31  2021  \n"
     ]
    }
   ],
   "source": [
    "df_locations['Year'] = df_locations['Date'].apply(lambda x : x[:4])\n",
    "print(df_locations.sort_values('Location ID').head())"
   ]
  },
  {
   "cell_type": "markdown",
   "id": "e95d7682-0894-4a0e-a3dd-a999b8a7549c",
   "metadata": {},
   "source": [
    "Create two new dataframes: one with number of checklists per location per year, and one with the data about each location. Then we'll combine those two to get the final dataframe.\n",
    "\n",
    "*There is almost certainly a more efficient way to do this with pandas, but I can't figure it out.*"
   ]
  },
  {
   "cell_type": "code",
   "execution_count": 7,
   "id": "94597350-a933-4332-a3a2-6e500ebcb5b5",
   "metadata": {},
   "outputs": [
    {
     "name": "stdout",
     "output_type": "stream",
     "text": [
      "  Location ID  Year  Submission ID\n",
      "0    L1021344  2021              1\n",
      "1   L10466555  2023              1\n",
      "2    L1079595  2022              1\n",
      "3    L1079595  2023              1\n",
      "4     L109138  2021              1\n",
      "5     L109143  2021              1\n",
      "6    L1096078  2021              2\n",
      "7   L11136195  2020              1\n",
      "8    L1119372  2019              1\n",
      "9    L1119372  2022              1\n",
      "(251, 3)\n"
     ]
    }
   ],
   "source": [
    "df_loc_count = df_locations.groupby([\"Location ID\",\"Year\"], as_index=False)[\"Submission ID\"].count()\n",
    "print(df_loc_count.sort_values('Location ID').head(10))\n",
    "print(df_loc_count.shape)"
   ]
  },
  {
   "cell_type": "code",
   "execution_count": 9,
   "id": "020447a1-3efe-40e4-99c5-b23767e0ebe6",
   "metadata": {},
   "outputs": [
    {
     "name": "stdout",
     "output_type": "stream",
     "text": [
      "     Location ID                                           Location  \\\n",
      "154     L1021344          Aransas NWR--Wildlife Tower (Calhoun Co.)   \n",
      "30     L10466555                          Hyde Park--The Serpentine   \n",
      "22      L1079595                                 Bauerle Ranch Park   \n",
      "44       L109138                      Braddock Bay Park--Hawk Watch   \n",
      "2556     L109143                                    Hamlin Beach SP   \n",
      "0       L1096078      Goose Island SP--Big Tree/Lamar Beach rd area   \n",
      "447    L11136195  2480–2572 Post Oak Rd, Webberville US-TX 30.21...   \n",
      "57      L1119372                   Webberville Park (Big)(HOTE 035)   \n",
      "406    L11199102  Toney Burger Activity Center, Sunset Valley US...   \n",
      "309     L1124333                                        Post Oak Rd   \n",
      "\n",
      "     State/Province   County   Latitude  Longitude  \n",
      "154           US-TX  Calhoun  28.250401 -96.789433  \n",
      "30           GB-ENG   London  51.505163  -0.164537  \n",
      "22            US-TX   Travis  30.161974 -97.843380  \n",
      "44            US-NY   Monroe  43.303650 -77.716303  \n",
      "2556          US-NY   Monroe  43.361379 -77.953874  \n",
      "0             US-TX  Aransas  28.149768 -96.976254  \n",
      "447           US-TX   Travis  30.219866 -97.504612  \n",
      "57            US-TX   Travis  30.211460 -97.495766  \n",
      "406           US-TX   Travis  30.228647 -97.808734  \n",
      "309           US-TX   Travis  30.219340 -97.503010  \n",
      "(211, 6)\n"
     ]
    }
   ],
   "source": [
    "df_loc_data = df_locations.iloc[:, [3,4,1,2,5,6]].drop_duplicates(subset='Location ID')\n",
    "print(df_loc_data.sort_values('Location ID').head(10))\n",
    "print(df_loc_data.shape)"
   ]
  },
  {
   "cell_type": "code",
   "execution_count": 10,
   "id": "222909a1-243c-4716-8289-40618eeaff2f",
   "metadata": {},
   "outputs": [
    {
     "name": "stdout",
     "output_type": "stream",
     "text": [
      "   Location ID  Year  Visits                               Location  \\\n",
      "8     L1119372  2019       1       Webberville Park (Big)(HOTE 035)   \n",
      "11    L1124333  2019       2                            Post Oak Rd   \n",
      "24     L122362  2019       1  Village Creek Drying Beds (PPW-W 083)   \n",
      "27     L127422  2019       1                           Crandon Park   \n",
      "31     L128957  2019       1                   Emma Long Metro Park   \n",
      "39     L130766  2019       1                Hornsby Bend (HOTE 037)   \n",
      "44    L1316670  2019       1              Webberville Park (Little)   \n",
      "55     L143084  2019       1                 Wakodahatchee Wetlands   \n",
      "83     L196306  2019       1            Rio Grande Nature Center SP   \n",
      "86    L2023174  2019       1             Mills Pond at Wells Branch   \n",
      "\n",
      "   State/Province      County   Latitude   Longitude  \n",
      "8           US-TX      Travis  30.211460  -97.495766  \n",
      "11          US-TX      Travis  30.219340  -97.503010  \n",
      "24          US-TX     Tarrant  32.784279  -97.126618  \n",
      "27          US-FL  Miami-Dade  25.708971  -80.153632  \n",
      "31          US-TX      Travis  30.331694  -97.838745  \n",
      "39          US-TX      Travis  30.218199  -97.645805  \n",
      "44          US-TX      Travis  30.229502  -97.518906  \n",
      "55          US-FL  Palm Beach  26.478198  -80.144738  \n",
      "83          US-NM  Bernalillo  35.130000 -106.683000  \n",
      "86          US-TX      Travis  30.450000  -97.680120  \n",
      "(251, 8)\n"
     ]
    }
   ],
   "source": [
    "# Merge df_loc_count (count of checklists per location) with df_loc_data (geo data about each location)\n",
    "df_merge2 = pd.merge(df_loc_count, df_loc_data, how=\"left\", on=\"Location ID\")\n",
    "df_merge2 = df_merge2.rename(columns={'Submission ID': 'Visits'}).sort_values(['Year','Location ID'])\n",
    "print(df_merge2.head(10))\n",
    "print(df_merge2.shape)"
   ]
  },
  {
   "cell_type": "code",
   "execution_count": 11,
   "id": "b96342fb-3395-4f09-bbb3-33b82bf7cdb0",
   "metadata": {},
   "outputs": [],
   "source": [
    "fig = px.scatter_geo(df_merge2, lat='Latitude', lon='Longitude', title='ebird checklists', size='Visits', hover_name='Location', color='Visits', scope='usa', \n",
    "                     animation_frame='Year', \n",
    "                     height=600)"
   ]
  },
  {
   "cell_type": "code",
   "execution_count": 13,
   "id": "75f57ae5-6d5f-453e-b971-95ee9f71eaa4",
   "metadata": {},
   "outputs": [
    {
     "data": {
      "application/vnd.plotly.v1+json": {
       "config": {
        "plotlyServerURL": "https://plot.ly"
       },
       "data": [
        {
         "geo": "geo",
         "hovertemplate": "<b>%{hovertext}</b><br><br>Year=2023<br>Visits=%{marker.color}<br>Latitude=%{lat}<br>Longitude=%{lon}<extra></extra>",
         "hovertext": [
          "Hyde Park--The Serpentine",
          "Bauerle Ranch Park",
          "Goodnight Ranch Community Ponds",
          "Calton Hill",
          "Fort Zachary Taylor Historic SP",
          "Truman Waterfront Park",
          "Lakeshore Park, Austin",
          "Hornsby Bend (HOTE 037)",
          "Bamberger Nature Park",
          "Circle C Ranch Metro Park",
          "Mitchell Lake Audubon Center (HOTE 103)",
          "Austin Community College—Eastview Campus",
          "907 Sandhill Branch Dr, Austin US-TX 30.17505, -97.80798",
          "Lake Bastrop--North Shore Park",
          "Charro Ranch Park",
          "Mills Pond at Wells Branch",
          "Nicholas Dawson Park",
          "4232 Mackland Ave NE, Albuquerque US-NM 35.09012, -106.59570",
          "Dunkeld area",
          "317 William St, Key West US-FL 24.55951, -81.80025",
          "205 Simonton St, Key West US-FL 24.55966, -81.80366",
          "629 Caroline St, Key West US-FL 24.55982, -81.80228",
          "6705 SH-71 E, Austin US-TX 30.23380, -97.86506",
          "8549–8599 Cockney Dr, Austin US-TX 30.18064, -97.80152",
          "Parmer Village area",
          "Green Park",
          "Waller Beach At Town Lake Metro Park, Austin US-TX (30.2546,-97.7396)",
          "HEB Oaks at Slaughter",
          "13100 Section House Rd, Manchaca US-TX 30.11786, -97.83221",
          "1548 Old Sayers Rd, Bastrop US-TX 30.23832, -97.33947",
          "1601–1621 Old Sayers Rd, Bastrop US-TX 30.23290, -97.33702",
          "Sayers Cemetery",
          "385 Pershing Blvd, Bastrop US-TX 30.19687, -97.29022",
          "St Mary's Gardens, London GB-England 51.49464, -0.12015",
          "Southpark Meadows, Austin US-TX 30.16571, -97.79183",
          "2267–2299 Gatlin Creek Rd, Dripping Springs US-TX 30.12299, -98.13559",
          "Dittmar Park",
          "Milton Reimers Ranch Park",
          "Garrison Bight Marina",
          "Thomas Memorial Park, Elgin",
          "Southeast Greenway, Mueller",
          "McKinney Falls SP (HOTE 039)",
          "Pace Bend Park--Mesquite Point",
          "Key West",
          "Pace Bend Park",
          "Commons Ford Ranch Metro Park",
          "The Kelpies",
          "Roy G. Guerrero Colorado River Metro Park",
          "Lake Creek Trail--West (Williamson Co.)",
          "JJ Pickle Research Campus",
          "Archbishop's Park",
          "Rio Grande Valley SP--Tingley Beach bosque ponds",
          "Mary Moore Searight Pk",
          "Hillside Gardens (Edinburgh)"
         ],
         "lat": [
          51.5051628,
          30.1619743,
          30.1573524,
          55.9548704,
          24.5463,
          24.555724,
          30.247,
          30.2181988,
          29.5601056,
          30.1997979,
          29.3105956,
          30.26832,
          30.175051,
          30.1659068,
          30.1625123,
          30.45,
          30.2523947,
          35.090122,
          56.5634554,
          24.559511,
          24.559658,
          24.559816,
          30.233804,
          30.180642,
          30.4647222,
          51.5036913,
          30.254586,
          30.169495,
          30.117858,
          30.238315,
          30.232904,
          30.233565,
          30.196872,
          51.494641,
          30.165705,
          30.122985,
          30.1847244,
          30.3641504,
          24.5605901,
          30.3435838,
          30.2904776,
          30.1836783,
          30.4558508,
          24.5558671,
          30.4417921,
          30.3373826,
          56.0199308,
          30.246172,
          30.4673656,
          30.387749,
          51.4971621,
          35.0807861,
          30.15767,
          55.9573323
         ],
         "legendgroup": "",
         "lon": [
          -0.1645374,
          -97.84338,
          -97.7579449,
          -3.1826019,
          -81.8106,
          -81.8075459,
          -97.7152,
          -97.6458054,
          -98.6302328,
          -97.8864806,
          -98.4996938,
          -97.705229,
          -97.807982,
          -97.2798646,
          -98.0750585,
          -97.68012,
          -97.7547169,
          -106.595705,
          -3.5856628,
          -81.800248,
          -81.803664,
          -81.802276,
          -97.865057,
          -97.801518,
          -97.7683333,
          -0.1437128,
          -97.739565,
          -97.786605,
          -97.832211,
          -97.339469,
          -97.337024,
          -97.327449,
          -97.290219,
          -0.120152,
          -97.79183,
          -98.135594,
          -97.8025246,
          -98.1237811,
          -81.7844582,
          -97.3628193,
          -97.6929778,
          -97.7258349,
          -98.0097842,
          -81.7915821,
          -98.0358982,
          -97.8930759,
          -3.7561226,
          -97.7049763,
          -97.7771286,
          -97.7281415,
          -0.116837,
          -106.6717958,
          -97.8066874,
          -3.1771177
         ],
         "marker": {
          "color": [
           1,
           1,
           1,
           1,
           1,
           1,
           1,
           2,
           1,
           1,
           4,
           1,
           2,
           1,
           1,
           1,
           1,
           1,
           1,
           1,
           1,
           1,
           1,
           1,
           1,
           1,
           1,
           1,
           1,
           1,
           1,
           1,
           1,
           1,
           1,
           1,
           7,
           2,
           1,
           1,
           1,
           1,
           1,
           1,
           1,
           3,
           1,
           1,
           1,
           1,
           2,
           1,
           2,
           1
          ],
          "coloraxis": "coloraxis",
          "size": [
           1,
           1,
           1,
           1,
           1,
           1,
           1,
           2,
           1,
           1,
           4,
           1,
           2,
           1,
           1,
           1,
           1,
           1,
           1,
           1,
           1,
           1,
           1,
           1,
           1,
           1,
           1,
           1,
           1,
           1,
           1,
           1,
           1,
           1,
           1,
           1,
           7,
           2,
           1,
           1,
           1,
           1,
           1,
           1,
           1,
           3,
           1,
           1,
           1,
           1,
           2,
           1,
           2,
           1
          ],
          "sizemode": "area",
          "sizeref": 0.0175,
          "symbol": "circle"
         },
         "mode": "markers",
         "name": "",
         "showlegend": false,
         "type": "scattergeo"
        }
       ],
       "frames": [
        {
         "data": [
          {
           "geo": "geo",
           "hovertemplate": "<b>%{hovertext}</b><br><br>Year=2019<br>Visits=%{marker.color}<br>Latitude=%{lat}<br>Longitude=%{lon}<extra></extra>",
           "hovertext": [
            "Webberville Park (Big)(HOTE 035)",
            "Post Oak Rd",
            "Village Creek Drying Beds (PPW-W 083)",
            "Crandon Park",
            "Emma Long Metro Park",
            "Hornsby Bend (HOTE 037)",
            "Webberville Park (Little)",
            "Wakodahatchee Wetlands",
            "Rio Grande Nature Center SP",
            "Mills Pond at Wells Branch",
            "Aquarena Springs",
            "Viridian Community / Lake Viridian",
            "Pedernales Falls State Park--Bird Blind area",
            "Willamette University",
            "Buffalo Bayou Park / Allen Pkwy (UTC 089)",
            "Commons Ford Ranch Metro Park",
            "Walnut Creek WTP",
            "University of Miami--main campus",
            "Pedernales Falls State Park, Cypress Mill US-TX (30.3075,-98.2557)",
            "Crockett High School, Austin US-TX (30.2125,-97.8005)",
            "211–243 Harris Hill Rd, San Marcos US-TX (29.8961,-97.8844)"
           ],
           "lat": [
            30.2114599,
            30.21934,
            32.7842795,
            25.7089712,
            30.3316943,
            30.2181988,
            30.2295016,
            26.4781984,
            35.13,
            30.45,
            29.8932402,
            32.794057,
            30.3252513,
            44.935823,
            29.7624774,
            30.3373826,
            30.2815651,
            25.7196139,
            30.307546,
            30.212506,
            29.896059
           ],
           "legendgroup": "",
           "lon": [
            -97.4957657,
            -97.50301,
            -97.1266181,
            -80.1536322,
            -97.8387451,
            -97.6458054,
            -97.5189064,
            -80.144738,
            -106.683,
            -97.68012,
            -97.9297458,
            -97.0886707,
            -98.2556275,
            -123.0314255,
            -95.3987932,
            -97.8930759,
            -97.6520634,
            -80.2769709,
            -98.255658,
            -97.800517,
            -97.884389
           ],
           "marker": {
            "color": [
             1,
             2,
             1,
             1,
             1,
             1,
             1,
             1,
             1,
             1,
             1,
             1,
             2,
             1,
             1,
             3,
             1,
             3,
             1,
             1,
             1
            ],
            "coloraxis": "coloraxis",
            "size": [
             1,
             2,
             1,
             1,
             1,
             1,
             1,
             1,
             1,
             1,
             1,
             1,
             2,
             1,
             1,
             3,
             1,
             3,
             1,
             1,
             1
            ],
            "sizemode": "area",
            "sizeref": 0.0175,
            "symbol": "circle"
           },
           "mode": "markers",
           "name": "",
           "showlegend": false,
           "type": "scattergeo"
          }
         ],
         "name": "2019"
        },
        {
         "data": [
          {
           "geo": "geo",
           "hovertemplate": "<b>%{hovertext}</b><br><br>Year=2020<br>Visits=%{marker.color}<br>Latitude=%{lat}<br>Longitude=%{lon}<extra></extra>",
           "hovertext": [
            "2480–2572 Post Oak Rd, Webberville US-TX 30.21987, -97.50461",
            "Toney Burger Activity Center, Sunset Valley US-TX 30.22865, -97.80873",
            "266 Wilbarger Bend Rd, Bastrop US-TX 30.16602, -97.41998",
            "199 Wilbarger Bend Rd, Bastrop US-TX 30.16797, -97.41840",
            "1150–1198 Upper Elgin River Rd, Elgin US-TX 30.28367, -97.43992",
            "Commons Ford Ranch Metropolitan Park, Austin US-TX 30.33726, -97.89412",
            "Granger Lake--Willis Creek Park",
            "1211–1425 County Road 249, Luling US-TX 29.61437, -97.61663",
            "1613–1653 Lemond Rd, Utopia US-TX 29.64055, -99.58847",
            "Commons Ford Ranch Metropolitan Park, Austin US-TX 30.33785, -97.89094",
            "Fort Anahuac Park (UTC 045)",
            "Lost Maples SNA (HOTW 061)",
            "Sea Rim SP (UTC 027)",
            "High Island--Smith Oaks Sanctuary (UTC 052)",
            "Auditorium Shores / Disch Field",
            "Anahuac NWR--Shoveler Pond Loop",
            "Bastrop Co.--Earhardt rd.",
            "Palmetto SP (CTC 029)",
            "Buescher SP (HOTE 033)",
            "Barkley Meadows Park",
            "Hill Country SNA--(Bandera Co. portion / N. of Bandera Creek rd.)(HOTW 045)",
            "Richard Moya Park (HOTE 038)",
            "Granger Lake Dam area & Overlook",
            "Williamson Co.--Southwest Regional Park",
            "McKinney Falls SP (HOTE 039)",
            "Lockhart SP",
            "Key West",
            "Commons Ford Ranch Metro Park",
            "Cook's Slough Nature Ctr. (HOTW 025)",
            "Sunset Valley Nature Preserve",
            "Brushy Creek Lake Park",
            "Lake Pflugerville",
            "Cougar Creek Greenbelt",
            "Town Lake--Shoal Beach, Austin",
            "Smith Point--James H. Robbins Park",
            "Crescent Bend Nature Park (Bexar Co.)",
            "Smith Point--Candy Abshier WMA (UTC 048)(GCBO Hawk Watch loc.)",
            "Granger Lake--Pecan Grove WMA",
            "Granger Lake--Taylor Park",
            "Union Chapel Cemetery, Utley",
            "Granger Lake--Friendship Park",
            "Post Oak Rd Pond, Webberville"
           ],
           "lat": [
            30.219866,
            30.228647,
            30.166022,
            30.167966,
            30.283668,
            30.337263,
            30.6953496,
            29.614369,
            29.64055,
            30.337851,
            29.7562008,
            29.8155087,
            29.6755873,
            29.573681,
            30.2631381,
            29.609993,
            30.1531429,
            29.5887112,
            30.0624082,
            30.186523,
            29.6277682,
            30.1701185,
            30.6855668,
            30.5600437,
            30.1836783,
            29.8510385,
            24.5558671,
            30.3373826,
            29.1873567,
            30.2219177,
            30.5085076,
            30.436908,
            30.2263395,
            30.2652945,
            29.5462532,
            29.5502272,
            29.526073,
            30.7016966,
            30.6730578,
            30.1935015,
            30.7190197,
            30.2240463
           ],
           "legendgroup": "",
           "lon": [
            -97.504612,
            -97.808734,
            -97.419976,
            -97.418399,
            -97.439915,
            -97.89412,
            -97.3850441,
            -97.616627,
            -99.588473,
            -97.890943,
            -94.685997,
            -99.5762582,
            -94.0421026,
            -94.3898535,
            -97.7522091,
            -94.551912,
            -97.3906231,
            -97.5828979,
            -97.1755683,
            -97.626068,
            -99.1819096,
            -97.667352,
            -97.3380285,
            -97.7635574,
            -97.7258349,
            -97.698015,
            -81.7915821,
            -97.8930759,
            -99.7886572,
            -97.8193474,
            -97.7719923,
            -97.5692797,
            -97.8168529,
            -97.752142,
            -94.788124,
            -98.2325739,
            -94.765987,
            -97.3214436,
            -97.3659897,
            -97.4288495,
            -97.3401117,
            -97.4922257
           ],
           "marker": {
            "color": [
             1,
             1,
             1,
             1,
             1,
             1,
             1,
             1,
             4,
             1,
             1,
             1,
             1,
             1,
             1,
             1,
             1,
             1,
             1,
             2,
             1,
             1,
             1,
             1,
             1,
             1,
             2,
             1,
             1,
             1,
             1,
             1,
             1,
             1,
             1,
             1,
             1,
             1,
             1,
             1,
             2,
             1
            ],
            "coloraxis": "coloraxis",
            "size": [
             1,
             1,
             1,
             1,
             1,
             1,
             1,
             1,
             4,
             1,
             1,
             1,
             1,
             1,
             1,
             1,
             1,
             1,
             1,
             2,
             1,
             1,
             1,
             1,
             1,
             1,
             2,
             1,
             1,
             1,
             1,
             1,
             1,
             1,
             1,
             1,
             1,
             1,
             1,
             1,
             2,
             1
            ],
            "sizemode": "area",
            "sizeref": 0.0175,
            "symbol": "circle"
           },
           "mode": "markers",
           "name": "",
           "showlegend": false,
           "type": "scattergeo"
          }
         ],
         "name": "2020"
        },
        {
         "data": [
          {
           "geo": "geo",
           "hovertemplate": "<b>%{hovertext}</b><br><br>Year=2021<br>Visits=%{marker.color}<br>Latitude=%{lat}<br>Longitude=%{lon}<extra></extra>",
           "hovertext": [
            "Aransas NWR--Wildlife Tower (Calhoun Co.)",
            "Braddock Bay Park--Hawk Watch",
            "Hamlin Beach SP",
            "Goose Island SP--Big Tree/Lamar Beach rd area",
            "Pedernales River Nature Park (LCRA)",
            "Goose Island SP--Campground area",
            "Pedernales Falls State Park (HOTE 050)",
            "Aransas NWR (CTC 037) (Aransas Co.)",
            "Mustang Island SP (CTC 060)",
            "Radnor Lake SP",
            "Rockport- Port Bay Road",
            "Rockport- Water Street",
            "Miller Creek Loop, Johnson City US-TX 30.20293, -98.41517",
            "7249–7405 Miller Creek Loop, Johnson City US-TX 30.20340, -98.40045",
            "3526–3546 Menchaca Rd, Austin US-TX 30.23803, -97.78324",
            "Commons Ford Ranch Metropolitan Park, Austin US-TX 30.33786, -97.89107",
            "Aransas NWR--Heron Flats Trail (Aransas Co.)",
            "Howard Murph Airport Park",
            "Santa Fe National Forest, Rowe US-NM 35.26671, -105.46142",
            "Santa Fe National Forest, Rowe US-NM 35.26788, -105.46030",
            "705 N Elk St, Fredericksburg US-TX 30.27648, -98.85971",
            "2020 SH-35 Loop, Aransas Pass US-TX 27.93351, -97.12228",
            "1216 Windmill Ct, Arlington US-TX 32.72354, -97.13494",
            "13047–13199 FM-971, Granger US-TX 30.70438, -97.47347",
            "Heritage Park, Fort Worth US-TX 32.75853, -97.33522",
            "130 W Prairie Rd, Fulton US-TX 28.07427, -97.03844",
            "Aransas National Wildlife Refuge, Rockport US-TX 28.27808, -96.80881",
            "Aransas NWR--Fishing pier area (Aransas Co.)",
            "Barton Creek at Loop 360",
            "Nicholas Dawson Park",
            "Landa Park (HOTE 069)",
            "Braddock Bay--East Spit",
            "Attwater Prairie Chicken NWR (CTC 004)",
            "Goose Island SP (CTC 048)",
            "Veterans Park, Beeville",
            "Aquarena Springs",
            "Mendon Ponds Park--Bird Song Trail",
            "Barkley Meadows Park",
            "Hazel Bazemore Park (CTC 078)",
            "Pedernales Falls State Park--Bird Blind area",
            "Goose Island SP--islet out from pier",
            "Rockport Beach Park",
            "Southeast Greenway, Mueller",
            "Leonabelle Turnbull Birding Ctr. (CTC 057)",
            "Rio Grande Valley SP--Rio Grande Nature Center Bosque Trails",
            "McKinney Falls SP (HOTE 039)",
            "Balcones Canyonlands NWR--Cactus Rocks Trail",
            "Copano Bay State Fishing Pier (CTC 049)",
            "Commons Ford Ranch Metro Park",
            "Devine Lake Park",
            "Walter E. Long Lake (HOTE-036)",
            "Rockport- Little Bay",
            "Post City Park",
            "Whitfield Wildlife Conservation Area",
            "Eagle Lake Municipal Pk",
            "Stones River Greenway--J. Percy Priest Trailhead and Dog Park",
            "Berry Springs Park, Georgetown",
            "Sunset Lake  (Portland)",
            "Rockport- Cape Valero Drive",
            "Crescent Bend Nature Park (Bexar Co.)",
            "San Marcos River Walk",
            "Aransas NWR--Oak Sanctuary Trail (Aransas Co.)",
            "Granger Lake--Wilson H. Fox Park",
            "Holiday Beach Pond",
            "Southwest Greenway & Butterfly Garden (Mueller)",
            "Zilker Metro Park--Barton Springs area",
            "Granger Lake--Friendship Park"
           ],
           "lat": [
            28.2504014,
            43.30365,
            43.3613788,
            28.1497681,
            30.2870128,
            28.137621,
            30.3067833,
            28.3108004,
            27.6651173,
            36.0602989,
            28.0221362,
            28.0148243,
            30.202927,
            30.2034,
            30.238028,
            30.337858,
            28.3015409,
            28.0949013,
            35.266707,
            35.267881,
            30.276483,
            27.933509,
            32.723537,
            30.704383,
            32.75853,
            28.074266,
            28.27808,
            28.2909257,
            30.2442387,
            30.2523947,
            29.7117824,
            43.3107525,
            29.671349,
            28.13255,
            28.4028736,
            29.8932402,
            43.0202323,
            30.186523,
            27.8666445,
            30.3252513,
            28.123237,
            28.0308958,
            30.2904776,
            27.8275297,
            35.131088,
            30.1836783,
            30.5055449,
            28.1138527,
            30.3373826,
            30.5832667,
            30.2836775,
            28.0359252,
            33.1815972,
            34.6678408,
            29.5854152,
            36.1597818,
            30.6820084,
            27.8679131,
            28.0421467,
            29.5502272,
            29.8813229,
            28.287376,
            30.681953,
            28.1622411,
            30.2891992,
            30.2640342,
            30.7190197
           ],
           "legendgroup": "",
           "lon": [
            -96.7894328,
            -77.7163028,
            -77.9538738,
            -96.976254,
            -98.3970737,
            -96.9889086,
            -98.2512236,
            -96.8011664,
            -97.179512,
            -86.8016968,
            -97.127037,
            -97.0530939,
            -98.41517,
            -98.400452,
            -97.783243,
            -97.891066,
            -96.8063205,
            -97.0517696,
            -105.461421,
            -105.460299,
            -98.859712,
            -97.122277,
            -97.134943,
            -97.473471,
            -97.335224,
            -97.038443,
            -96.808813,
            -96.8098558,
            -97.8020096,
            -97.7547169,
            -98.1356484,
            -77.7073288,
            -96.2737083,
            -96.985052,
            -97.7689033,
            -97.9297458,
            -77.5809949,
            -97.626068,
            -97.6416233,
            -98.2556275,
            -96.9776058,
            -97.0371276,
            -97.6929778,
            -97.0789558,
            -106.6856146,
            -97.7258349,
            -97.9798198,
            -97.0248234,
            -97.8930759,
            -97.8826046,
            -97.6080322,
            -97.0420432,
            -101.3763857,
            -106.7382717,
            -96.3365001,
            -86.6214949,
            -97.6417637,
            -97.3274088,
            -97.1168125,
            -98.2325739,
            -97.934854,
            -96.8102854,
            -97.3535872,
            -96.9967246,
            -97.7030468,
            -97.7709818,
            -97.3401117
           ],
           "marker": {
            "color": [
             1,
             1,
             1,
             2,
             1,
             4,
             1,
             1,
             1,
             1,
             1,
             1,
             1,
             1,
             2,
             1,
             1,
             1,
             1,
             1,
             1,
             1,
             1,
             1,
             1,
             1,
             1,
             1,
             1,
             2,
             1,
             1,
             1,
             2,
             1,
             1,
             1,
             1,
             1,
             1,
             1,
             1,
             2,
             1,
             1,
             1,
             1,
             1,
             1,
             1,
             2,
             1,
             1,
             1,
             1,
             1,
             1,
             1,
             1,
             1,
             1,
             1,
             1,
             1,
             3,
             3,
             1
            ],
            "coloraxis": "coloraxis",
            "size": [
             1,
             1,
             1,
             2,
             1,
             4,
             1,
             1,
             1,
             1,
             1,
             1,
             1,
             1,
             2,
             1,
             1,
             1,
             1,
             1,
             1,
             1,
             1,
             1,
             1,
             1,
             1,
             1,
             1,
             2,
             1,
             1,
             1,
             2,
             1,
             1,
             1,
             1,
             1,
             1,
             1,
             1,
             2,
             1,
             1,
             1,
             1,
             1,
             1,
             1,
             2,
             1,
             1,
             1,
             1,
             1,
             1,
             1,
             1,
             1,
             1,
             1,
             1,
             1,
             3,
             3,
             1
            ],
            "sizemode": "area",
            "sizeref": 0.0175,
            "symbol": "circle"
           },
           "mode": "markers",
           "name": "",
           "showlegend": false,
           "type": "scattergeo"
          }
         ],
         "name": "2021"
        },
        {
         "data": [
          {
           "geo": "geo",
           "hovertemplate": "<b>%{hovertext}</b><br><br>Year=2022<br>Visits=%{marker.color}<br>Latitude=%{lat}<br>Longitude=%{lon}<extra></extra>",
           "hovertext": [
            "Bauerle Ranch Park",
            "Webberville Park (Big)(HOTE 035)",
            "Trammell Crow Park",
            "Bentsen-Rio Grande Val. SP--HQ Buildings area",
            "Bentsen-Rio Grande Val. SP WBC (Mission) (LTC 069)",
            "Resaca de la Palma SP WBC (Brownsville) (LTC 048)",
            "Choke Canyon SP--Birding Blind",
            "Aransas NWR--Heron Flats Trail (Aransas Co.)",
            "907 Sandhill Branch Dr, Austin US-TX 30.17505, -97.80798",
            "Retention ponds - btw Slaughter and Sugarberry Ln",
            "8881–9171 US-183, Gonzales US-TX 29.58686, -97.53341",
            "Lake Bastrop--North Shore Park",
            "5672 Oak Blvd, Austin US-TX 30.23750, -97.84751",
            "FM-3013, Cat Spring US-TX 29.63764, -96.26372",
            "Lakeshore at Town Lake Metropolitan Park, Austin US-TX 30.24394, -97.72051",
            "99 SH-150 Loop, Bastrop US-TX 30.10768, -97.32754",
            "Cove Park",
            "9901 Brodie Ln, Austin US-TX 30.18510, -97.84744",
            "Nicholas Dawson Park",
            "4232 Mackland Ave NE, Albuquerque US-NM 35.09012, -106.59570",
            "14038–14084 SH-72, Kenedy US-TX 28.64898, -98.00720",
            "10047–10049 US-281 S, Alice US-TX 27.49582, -98.10528",
            "5270–5294 Military Rd, Mission US-TX 26.15545, -98.32475",
            "Lady Bird Lake--Peninsula Trail",
            "Aransas NWR--Big Tree Trail",
            "Anzalduas Park (LTC 068)",
            "Palmetto SP (CTC 029)",
            "Edinburg Scenic Wetlands WBC (LTC 061)",
            "Southpark Meadows Ctr., Austin",
            "Estero Llano Grande SP WBC (LTC 054)",
            "Attwater Prairie Chicken NWR (CTC 004)",
            "Lake Findley (Lake Alice)",
            "Dittmar Park",
            "Aquarena Springs",
            "Stanley Park",
            "Buescher SP (HOTE 033)",
            "Blunn Creek Preserve",
            "Right Bank Area",
            "Choke Canyon SP--Calliham Unit (McMullen Co.)(CTC 082)",
            "Barkley Meadows Park",
            "Hazel Bazemore Park (CTC 078)",
            "Milton Reimers Ranch Park",
            "Active Pass",
            "Falfurrias Rest Area (LTC 004)",
            "Blucher Park (CTC 071)",
            "Pollywog Pond (CTC 077)",
            "Southeast Greenway, Mueller",
            "McKinney Falls SP (HOTE 039)",
            "Barton Creek Wilderness Park",
            "Commons Ford Ranch Metro Park",
            "Mueller Lake Park",
            "Trinity Park, Fort Worth",
            "Lake Pflugerville",
            "Attwater Prairie-Chicken NWR--Horseshoe Lake Trail",
            "Roy G. Guerrero Colorado River Metro Park",
            "Walter E. Long Lake (HOTE-036)",
            "Eagle Lake Municipal Pk",
            "Fred Jones Nature Sanctuary (CTC 074)",
            "Bentsen-Rio Grande Valley SP--La Familia Nature ctr. area",
            "Charleson Park & Seawall",
            "Aransas NWR--Songbird Loop Trail",
            "Chaetura Canyon Sanctuary (restricted access)",
            "Rockport- Tule Creek Nature Preserve",
            "Mary Moore Searight Pk",
            "Southwest Greenway & Butterfly Garden (Mueller)",
            "Zilker Metro Park--Barton Springs area",
            "Lake Creek Trail--East (Williamson Co.)"
           ],
           "lat": [
            30.1619743,
            30.2114599,
            32.7909291,
            26.1856055,
            26.1849709,
            25.9965839,
            28.4886513,
            28.3015409,
            30.175051,
            30.174645,
            29.58686,
            30.1659068,
            30.237497,
            29.637636,
            30.243938,
            30.107684,
            27.83761,
            30.185103,
            30.2523947,
            35.090122,
            28.648985,
            27.495819,
            26.155455,
            30.2464761,
            28.2525656,
            26.1384105,
            29.5887112,
            26.2905822,
            30.1570294,
            26.1268335,
            29.671349,
            27.7888887,
            30.1847244,
            29.8932402,
            49.3029688,
            30.0624082,
            30.2296366,
            27.8609986,
            28.4717282,
            30.186523,
            27.8666445,
            30.3641504,
            48.85682,
            27.094091,
            27.791317,
            27.8627509,
            30.2904776,
            30.1836783,
            30.269106,
            30.3373826,
            30.2972402,
            32.7429232,
            30.436908,
            29.673529,
            30.246172,
            30.2836775,
            29.5854152,
            27.8795216,
            26.183803,
            49.267555,
            28.299126,
            30.3764071,
            28.0502717,
            30.15767,
            30.2891992,
            30.2640342,
            30.4626635
           ],
           "legendgroup": "",
           "lon": [
            -97.84338,
            -97.4957657,
            -96.834567,
            -98.3799398,
            -98.3793885,
            -97.5690513,
            -98.3411523,
            -96.8063205,
            -97.807982,
            -97.818148,
            -97.533408,
            -97.2798646,
            -97.847506,
            -96.26372,
            -97.72051,
            -97.327535,
            -97.219445,
            -97.847438,
            -97.7547169,
            -106.595705,
            -98.007198,
            -98.105285,
            -98.324746,
            -97.7206448,
            -96.7910099,
            -98.3327866,
            -97.5828979,
            -98.1351909,
            -97.7951929,
            -97.9578167,
            -96.2737083,
            -98.0641977,
            -97.8025246,
            -97.9297458,
            -123.1432629,
            -97.1755683,
            -97.7471068,
            -97.3410907,
            -98.3394384,
            -97.626068,
            -97.6416233,
            -98.1237811,
            -123.31239,
            -98.146384,
            -97.399174,
            -97.612361,
            -97.6929778,
            -97.7258349,
            -97.8241937,
            -97.8930759,
            -97.7063084,
            -97.3538446,
            -97.5692797,
            -96.269537,
            -97.7049763,
            -97.6080322,
            -96.3365001,
            -97.40942,
            -98.38074,
            -123.12497,
            -96.8075267,
            -97.9223597,
            -97.0428348,
            -97.8066874,
            -97.7030468,
            -97.7709818,
            -97.7598189
           ],
           "marker": {
            "color": [
             1,
             1,
             1,
             1,
             1,
             1,
             1,
             1,
             2,
             1,
             1,
             1,
             1,
             1,
             1,
             1,
             1,
             1,
             2,
             1,
             1,
             1,
             1,
             1,
             1,
             1,
             1,
             1,
             1,
             1,
             1,
             1,
             3,
             2,
             1,
             1,
             1,
             1,
             2,
             1,
             1,
             1,
             1,
             1,
             1,
             1,
             4,
             1,
             1,
             3,
             1,
             1,
             1,
             1,
             2,
             1,
             1,
             1,
             1,
             1,
             1,
             1,
             1,
             2,
             1,
             2,
             1
            ],
            "coloraxis": "coloraxis",
            "size": [
             1,
             1,
             1,
             1,
             1,
             1,
             1,
             1,
             2,
             1,
             1,
             1,
             1,
             1,
             1,
             1,
             1,
             1,
             2,
             1,
             1,
             1,
             1,
             1,
             1,
             1,
             1,
             1,
             1,
             1,
             1,
             1,
             3,
             2,
             1,
             1,
             1,
             1,
             2,
             1,
             1,
             1,
             1,
             1,
             1,
             1,
             4,
             1,
             1,
             3,
             1,
             1,
             1,
             1,
             2,
             1,
             1,
             1,
             1,
             1,
             1,
             1,
             1,
             2,
             1,
             2,
             1
            ],
            "sizemode": "area",
            "sizeref": 0.0175,
            "symbol": "circle"
           },
           "mode": "markers",
           "name": "",
           "showlegend": false,
           "type": "scattergeo"
          }
         ],
         "name": "2022"
        },
        {
         "data": [
          {
           "geo": "geo",
           "hovertemplate": "<b>%{hovertext}</b><br><br>Year=2023<br>Visits=%{marker.color}<br>Latitude=%{lat}<br>Longitude=%{lon}<extra></extra>",
           "hovertext": [
            "Hyde Park--The Serpentine",
            "Bauerle Ranch Park",
            "Goodnight Ranch Community Ponds",
            "Calton Hill",
            "Fort Zachary Taylor Historic SP",
            "Truman Waterfront Park",
            "Lakeshore Park, Austin",
            "Hornsby Bend (HOTE 037)",
            "Bamberger Nature Park",
            "Circle C Ranch Metro Park",
            "Mitchell Lake Audubon Center (HOTE 103)",
            "Austin Community College—Eastview Campus",
            "907 Sandhill Branch Dr, Austin US-TX 30.17505, -97.80798",
            "Lake Bastrop--North Shore Park",
            "Charro Ranch Park",
            "Mills Pond at Wells Branch",
            "Nicholas Dawson Park",
            "4232 Mackland Ave NE, Albuquerque US-NM 35.09012, -106.59570",
            "Dunkeld area",
            "317 William St, Key West US-FL 24.55951, -81.80025",
            "205 Simonton St, Key West US-FL 24.55966, -81.80366",
            "629 Caroline St, Key West US-FL 24.55982, -81.80228",
            "6705 SH-71 E, Austin US-TX 30.23380, -97.86506",
            "8549–8599 Cockney Dr, Austin US-TX 30.18064, -97.80152",
            "Parmer Village area",
            "Green Park",
            "Waller Beach At Town Lake Metro Park, Austin US-TX (30.2546,-97.7396)",
            "HEB Oaks at Slaughter",
            "13100 Section House Rd, Manchaca US-TX 30.11786, -97.83221",
            "1548 Old Sayers Rd, Bastrop US-TX 30.23832, -97.33947",
            "1601–1621 Old Sayers Rd, Bastrop US-TX 30.23290, -97.33702",
            "Sayers Cemetery",
            "385 Pershing Blvd, Bastrop US-TX 30.19687, -97.29022",
            "St Mary's Gardens, London GB-England 51.49464, -0.12015",
            "Southpark Meadows, Austin US-TX 30.16571, -97.79183",
            "2267–2299 Gatlin Creek Rd, Dripping Springs US-TX 30.12299, -98.13559",
            "Dittmar Park",
            "Milton Reimers Ranch Park",
            "Garrison Bight Marina",
            "Thomas Memorial Park, Elgin",
            "Southeast Greenway, Mueller",
            "McKinney Falls SP (HOTE 039)",
            "Pace Bend Park--Mesquite Point",
            "Key West",
            "Pace Bend Park",
            "Commons Ford Ranch Metro Park",
            "The Kelpies",
            "Roy G. Guerrero Colorado River Metro Park",
            "Lake Creek Trail--West (Williamson Co.)",
            "JJ Pickle Research Campus",
            "Archbishop's Park",
            "Rio Grande Valley SP--Tingley Beach bosque ponds",
            "Mary Moore Searight Pk",
            "Hillside Gardens (Edinburgh)"
           ],
           "lat": [
            51.5051628,
            30.1619743,
            30.1573524,
            55.9548704,
            24.5463,
            24.555724,
            30.247,
            30.2181988,
            29.5601056,
            30.1997979,
            29.3105956,
            30.26832,
            30.175051,
            30.1659068,
            30.1625123,
            30.45,
            30.2523947,
            35.090122,
            56.5634554,
            24.559511,
            24.559658,
            24.559816,
            30.233804,
            30.180642,
            30.4647222,
            51.5036913,
            30.254586,
            30.169495,
            30.117858,
            30.238315,
            30.232904,
            30.233565,
            30.196872,
            51.494641,
            30.165705,
            30.122985,
            30.1847244,
            30.3641504,
            24.5605901,
            30.3435838,
            30.2904776,
            30.1836783,
            30.4558508,
            24.5558671,
            30.4417921,
            30.3373826,
            56.0199308,
            30.246172,
            30.4673656,
            30.387749,
            51.4971621,
            35.0807861,
            30.15767,
            55.9573323
           ],
           "legendgroup": "",
           "lon": [
            -0.1645374,
            -97.84338,
            -97.7579449,
            -3.1826019,
            -81.8106,
            -81.8075459,
            -97.7152,
            -97.6458054,
            -98.6302328,
            -97.8864806,
            -98.4996938,
            -97.705229,
            -97.807982,
            -97.2798646,
            -98.0750585,
            -97.68012,
            -97.7547169,
            -106.595705,
            -3.5856628,
            -81.800248,
            -81.803664,
            -81.802276,
            -97.865057,
            -97.801518,
            -97.7683333,
            -0.1437128,
            -97.739565,
            -97.786605,
            -97.832211,
            -97.339469,
            -97.337024,
            -97.327449,
            -97.290219,
            -0.120152,
            -97.79183,
            -98.135594,
            -97.8025246,
            -98.1237811,
            -81.7844582,
            -97.3628193,
            -97.6929778,
            -97.7258349,
            -98.0097842,
            -81.7915821,
            -98.0358982,
            -97.8930759,
            -3.7561226,
            -97.7049763,
            -97.7771286,
            -97.7281415,
            -0.116837,
            -106.6717958,
            -97.8066874,
            -3.1771177
           ],
           "marker": {
            "color": [
             1,
             1,
             1,
             1,
             1,
             1,
             1,
             2,
             1,
             1,
             4,
             1,
             2,
             1,
             1,
             1,
             1,
             1,
             1,
             1,
             1,
             1,
             1,
             1,
             1,
             1,
             1,
             1,
             1,
             1,
             1,
             1,
             1,
             1,
             1,
             1,
             7,
             2,
             1,
             1,
             1,
             1,
             1,
             1,
             1,
             3,
             1,
             1,
             1,
             1,
             2,
             1,
             2,
             1
            ],
            "coloraxis": "coloraxis",
            "size": [
             1,
             1,
             1,
             1,
             1,
             1,
             1,
             2,
             1,
             1,
             4,
             1,
             2,
             1,
             1,
             1,
             1,
             1,
             1,
             1,
             1,
             1,
             1,
             1,
             1,
             1,
             1,
             1,
             1,
             1,
             1,
             1,
             1,
             1,
             1,
             1,
             7,
             2,
             1,
             1,
             1,
             1,
             1,
             1,
             1,
             3,
             1,
             1,
             1,
             1,
             2,
             1,
             2,
             1
            ],
            "sizemode": "area",
            "sizeref": 0.0175,
            "symbol": "circle"
           },
           "mode": "markers",
           "name": "",
           "showlegend": false,
           "type": "scattergeo"
          }
         ],
         "name": "2023"
        }
       ],
       "layout": {
        "autosize": true,
        "coloraxis": {
         "colorbar": {
          "title": {
           "text": "Visits"
          }
         },
         "colorscale": [
          [
           0,
           "#0d0887"
          ],
          [
           0.1111111111111111,
           "#46039f"
          ],
          [
           0.2222222222222222,
           "#7201a8"
          ],
          [
           0.3333333333333333,
           "#9c179e"
          ],
          [
           0.4444444444444444,
           "#bd3786"
          ],
          [
           0.5555555555555556,
           "#d8576b"
          ],
          [
           0.6666666666666666,
           "#ed7953"
          ],
          [
           0.7777777777777778,
           "#fb9f3a"
          ],
          [
           0.8888888888888888,
           "#fdca26"
          ],
          [
           1,
           "#f0f921"
          ]
         ]
        },
        "geo": {
         "center": {
          "lat": 33.86677642102743,
          "lon": -97.17587348390818
         },
         "domain": {
          "x": [
           0,
           1
          ],
          "y": [
           0,
           1
          ]
         },
         "projection": {
          "scale": 0.6542890357274976
         },
         "scope": "usa"
        },
        "legend": {
         "itemsizing": "constant",
         "tracegroupgap": 0
        },
        "sliders": [
         {
          "active": 4,
          "currentvalue": {
           "prefix": "Year="
          },
          "len": 0.9,
          "pad": {
           "b": 10,
           "t": 60
          },
          "steps": [
           {
            "args": [
             [
              "2019"
             ],
             {
              "frame": {
               "duration": 0,
               "redraw": true
              },
              "fromcurrent": true,
              "mode": "immediate",
              "transition": {
               "duration": 0,
               "easing": "linear"
              }
             }
            ],
            "label": "2019",
            "method": "animate"
           },
           {
            "args": [
             [
              "2020"
             ],
             {
              "frame": {
               "duration": 0,
               "redraw": true
              },
              "fromcurrent": true,
              "mode": "immediate",
              "transition": {
               "duration": 0,
               "easing": "linear"
              }
             }
            ],
            "label": "2020",
            "method": "animate"
           },
           {
            "args": [
             [
              "2021"
             ],
             {
              "frame": {
               "duration": 0,
               "redraw": true
              },
              "fromcurrent": true,
              "mode": "immediate",
              "transition": {
               "duration": 0,
               "easing": "linear"
              }
             }
            ],
            "label": "2021",
            "method": "animate"
           },
           {
            "args": [
             [
              "2022"
             ],
             {
              "frame": {
               "duration": 0,
               "redraw": true
              },
              "fromcurrent": true,
              "mode": "immediate",
              "transition": {
               "duration": 0,
               "easing": "linear"
              }
             }
            ],
            "label": "2022",
            "method": "animate"
           },
           {
            "args": [
             [
              "2023"
             ],
             {
              "frame": {
               "duration": 0,
               "redraw": true
              },
              "fromcurrent": true,
              "mode": "immediate",
              "transition": {
               "duration": 0,
               "easing": "linear"
              }
             }
            ],
            "label": "2023",
            "method": "animate"
           }
          ],
          "x": 0.1,
          "xanchor": "left",
          "y": 0,
          "yanchor": "top"
         }
        ],
        "template": {
         "data": {
          "bar": [
           {
            "error_x": {
             "color": "#2a3f5f"
            },
            "error_y": {
             "color": "#2a3f5f"
            },
            "marker": {
             "line": {
              "color": "#E5ECF6",
              "width": 0.5
             },
             "pattern": {
              "fillmode": "overlay",
              "size": 10,
              "solidity": 0.2
             }
            },
            "type": "bar"
           }
          ],
          "barpolar": [
           {
            "marker": {
             "line": {
              "color": "#E5ECF6",
              "width": 0.5
             },
             "pattern": {
              "fillmode": "overlay",
              "size": 10,
              "solidity": 0.2
             }
            },
            "type": "barpolar"
           }
          ],
          "carpet": [
           {
            "aaxis": {
             "endlinecolor": "#2a3f5f",
             "gridcolor": "white",
             "linecolor": "white",
             "minorgridcolor": "white",
             "startlinecolor": "#2a3f5f"
            },
            "baxis": {
             "endlinecolor": "#2a3f5f",
             "gridcolor": "white",
             "linecolor": "white",
             "minorgridcolor": "white",
             "startlinecolor": "#2a3f5f"
            },
            "type": "carpet"
           }
          ],
          "choropleth": [
           {
            "colorbar": {
             "outlinewidth": 0,
             "ticks": ""
            },
            "type": "choropleth"
           }
          ],
          "contour": [
           {
            "colorbar": {
             "outlinewidth": 0,
             "ticks": ""
            },
            "colorscale": [
             [
              0,
              "#0d0887"
             ],
             [
              0.1111111111111111,
              "#46039f"
             ],
             [
              0.2222222222222222,
              "#7201a8"
             ],
             [
              0.3333333333333333,
              "#9c179e"
             ],
             [
              0.4444444444444444,
              "#bd3786"
             ],
             [
              0.5555555555555556,
              "#d8576b"
             ],
             [
              0.6666666666666666,
              "#ed7953"
             ],
             [
              0.7777777777777778,
              "#fb9f3a"
             ],
             [
              0.8888888888888888,
              "#fdca26"
             ],
             [
              1,
              "#f0f921"
             ]
            ],
            "type": "contour"
           }
          ],
          "contourcarpet": [
           {
            "colorbar": {
             "outlinewidth": 0,
             "ticks": ""
            },
            "type": "contourcarpet"
           }
          ],
          "heatmap": [
           {
            "colorbar": {
             "outlinewidth": 0,
             "ticks": ""
            },
            "colorscale": [
             [
              0,
              "#0d0887"
             ],
             [
              0.1111111111111111,
              "#46039f"
             ],
             [
              0.2222222222222222,
              "#7201a8"
             ],
             [
              0.3333333333333333,
              "#9c179e"
             ],
             [
              0.4444444444444444,
              "#bd3786"
             ],
             [
              0.5555555555555556,
              "#d8576b"
             ],
             [
              0.6666666666666666,
              "#ed7953"
             ],
             [
              0.7777777777777778,
              "#fb9f3a"
             ],
             [
              0.8888888888888888,
              "#fdca26"
             ],
             [
              1,
              "#f0f921"
             ]
            ],
            "type": "heatmap"
           }
          ],
          "heatmapgl": [
           {
            "colorbar": {
             "outlinewidth": 0,
             "ticks": ""
            },
            "colorscale": [
             [
              0,
              "#0d0887"
             ],
             [
              0.1111111111111111,
              "#46039f"
             ],
             [
              0.2222222222222222,
              "#7201a8"
             ],
             [
              0.3333333333333333,
              "#9c179e"
             ],
             [
              0.4444444444444444,
              "#bd3786"
             ],
             [
              0.5555555555555556,
              "#d8576b"
             ],
             [
              0.6666666666666666,
              "#ed7953"
             ],
             [
              0.7777777777777778,
              "#fb9f3a"
             ],
             [
              0.8888888888888888,
              "#fdca26"
             ],
             [
              1,
              "#f0f921"
             ]
            ],
            "type": "heatmapgl"
           }
          ],
          "histogram": [
           {
            "marker": {
             "pattern": {
              "fillmode": "overlay",
              "size": 10,
              "solidity": 0.2
             }
            },
            "type": "histogram"
           }
          ],
          "histogram2d": [
           {
            "colorbar": {
             "outlinewidth": 0,
             "ticks": ""
            },
            "colorscale": [
             [
              0,
              "#0d0887"
             ],
             [
              0.1111111111111111,
              "#46039f"
             ],
             [
              0.2222222222222222,
              "#7201a8"
             ],
             [
              0.3333333333333333,
              "#9c179e"
             ],
             [
              0.4444444444444444,
              "#bd3786"
             ],
             [
              0.5555555555555556,
              "#d8576b"
             ],
             [
              0.6666666666666666,
              "#ed7953"
             ],
             [
              0.7777777777777778,
              "#fb9f3a"
             ],
             [
              0.8888888888888888,
              "#fdca26"
             ],
             [
              1,
              "#f0f921"
             ]
            ],
            "type": "histogram2d"
           }
          ],
          "histogram2dcontour": [
           {
            "colorbar": {
             "outlinewidth": 0,
             "ticks": ""
            },
            "colorscale": [
             [
              0,
              "#0d0887"
             ],
             [
              0.1111111111111111,
              "#46039f"
             ],
             [
              0.2222222222222222,
              "#7201a8"
             ],
             [
              0.3333333333333333,
              "#9c179e"
             ],
             [
              0.4444444444444444,
              "#bd3786"
             ],
             [
              0.5555555555555556,
              "#d8576b"
             ],
             [
              0.6666666666666666,
              "#ed7953"
             ],
             [
              0.7777777777777778,
              "#fb9f3a"
             ],
             [
              0.8888888888888888,
              "#fdca26"
             ],
             [
              1,
              "#f0f921"
             ]
            ],
            "type": "histogram2dcontour"
           }
          ],
          "mesh3d": [
           {
            "colorbar": {
             "outlinewidth": 0,
             "ticks": ""
            },
            "type": "mesh3d"
           }
          ],
          "parcoords": [
           {
            "line": {
             "colorbar": {
              "outlinewidth": 0,
              "ticks": ""
             }
            },
            "type": "parcoords"
           }
          ],
          "pie": [
           {
            "automargin": true,
            "type": "pie"
           }
          ],
          "scatter": [
           {
            "fillpattern": {
             "fillmode": "overlay",
             "size": 10,
             "solidity": 0.2
            },
            "type": "scatter"
           }
          ],
          "scatter3d": [
           {
            "line": {
             "colorbar": {
              "outlinewidth": 0,
              "ticks": ""
             }
            },
            "marker": {
             "colorbar": {
              "outlinewidth": 0,
              "ticks": ""
             }
            },
            "type": "scatter3d"
           }
          ],
          "scattercarpet": [
           {
            "marker": {
             "colorbar": {
              "outlinewidth": 0,
              "ticks": ""
             }
            },
            "type": "scattercarpet"
           }
          ],
          "scattergeo": [
           {
            "marker": {
             "colorbar": {
              "outlinewidth": 0,
              "ticks": ""
             }
            },
            "type": "scattergeo"
           }
          ],
          "scattergl": [
           {
            "marker": {
             "colorbar": {
              "outlinewidth": 0,
              "ticks": ""
             }
            },
            "type": "scattergl"
           }
          ],
          "scattermapbox": [
           {
            "marker": {
             "colorbar": {
              "outlinewidth": 0,
              "ticks": ""
             }
            },
            "type": "scattermapbox"
           }
          ],
          "scatterpolar": [
           {
            "marker": {
             "colorbar": {
              "outlinewidth": 0,
              "ticks": ""
             }
            },
            "type": "scatterpolar"
           }
          ],
          "scatterpolargl": [
           {
            "marker": {
             "colorbar": {
              "outlinewidth": 0,
              "ticks": ""
             }
            },
            "type": "scatterpolargl"
           }
          ],
          "scatterternary": [
           {
            "marker": {
             "colorbar": {
              "outlinewidth": 0,
              "ticks": ""
             }
            },
            "type": "scatterternary"
           }
          ],
          "surface": [
           {
            "colorbar": {
             "outlinewidth": 0,
             "ticks": ""
            },
            "colorscale": [
             [
              0,
              "#0d0887"
             ],
             [
              0.1111111111111111,
              "#46039f"
             ],
             [
              0.2222222222222222,
              "#7201a8"
             ],
             [
              0.3333333333333333,
              "#9c179e"
             ],
             [
              0.4444444444444444,
              "#bd3786"
             ],
             [
              0.5555555555555556,
              "#d8576b"
             ],
             [
              0.6666666666666666,
              "#ed7953"
             ],
             [
              0.7777777777777778,
              "#fb9f3a"
             ],
             [
              0.8888888888888888,
              "#fdca26"
             ],
             [
              1,
              "#f0f921"
             ]
            ],
            "type": "surface"
           }
          ],
          "table": [
           {
            "cells": {
             "fill": {
              "color": "#EBF0F8"
             },
             "line": {
              "color": "white"
             }
            },
            "header": {
             "fill": {
              "color": "#C8D4E3"
             },
             "line": {
              "color": "white"
             }
            },
            "type": "table"
           }
          ]
         },
         "layout": {
          "annotationdefaults": {
           "arrowcolor": "#2a3f5f",
           "arrowhead": 0,
           "arrowwidth": 1
          },
          "autotypenumbers": "strict",
          "coloraxis": {
           "colorbar": {
            "outlinewidth": 0,
            "ticks": ""
           }
          },
          "colorscale": {
           "diverging": [
            [
             0,
             "#8e0152"
            ],
            [
             0.1,
             "#c51b7d"
            ],
            [
             0.2,
             "#de77ae"
            ],
            [
             0.3,
             "#f1b6da"
            ],
            [
             0.4,
             "#fde0ef"
            ],
            [
             0.5,
             "#f7f7f7"
            ],
            [
             0.6,
             "#e6f5d0"
            ],
            [
             0.7,
             "#b8e186"
            ],
            [
             0.8,
             "#7fbc41"
            ],
            [
             0.9,
             "#4d9221"
            ],
            [
             1,
             "#276419"
            ]
           ],
           "sequential": [
            [
             0,
             "#0d0887"
            ],
            [
             0.1111111111111111,
             "#46039f"
            ],
            [
             0.2222222222222222,
             "#7201a8"
            ],
            [
             0.3333333333333333,
             "#9c179e"
            ],
            [
             0.4444444444444444,
             "#bd3786"
            ],
            [
             0.5555555555555556,
             "#d8576b"
            ],
            [
             0.6666666666666666,
             "#ed7953"
            ],
            [
             0.7777777777777778,
             "#fb9f3a"
            ],
            [
             0.8888888888888888,
             "#fdca26"
            ],
            [
             1,
             "#f0f921"
            ]
           ],
           "sequentialminus": [
            [
             0,
             "#0d0887"
            ],
            [
             0.1111111111111111,
             "#46039f"
            ],
            [
             0.2222222222222222,
             "#7201a8"
            ],
            [
             0.3333333333333333,
             "#9c179e"
            ],
            [
             0.4444444444444444,
             "#bd3786"
            ],
            [
             0.5555555555555556,
             "#d8576b"
            ],
            [
             0.6666666666666666,
             "#ed7953"
            ],
            [
             0.7777777777777778,
             "#fb9f3a"
            ],
            [
             0.8888888888888888,
             "#fdca26"
            ],
            [
             1,
             "#f0f921"
            ]
           ]
          },
          "colorway": [
           "#636efa",
           "#EF553B",
           "#00cc96",
           "#ab63fa",
           "#FFA15A",
           "#19d3f3",
           "#FF6692",
           "#B6E880",
           "#FF97FF",
           "#FECB52"
          ],
          "font": {
           "color": "#2a3f5f"
          },
          "geo": {
           "bgcolor": "white",
           "lakecolor": "white",
           "landcolor": "#E5ECF6",
           "showlakes": true,
           "showland": true,
           "subunitcolor": "white"
          },
          "hoverlabel": {
           "align": "left"
          },
          "hovermode": "closest",
          "mapbox": {
           "style": "light"
          },
          "paper_bgcolor": "white",
          "plot_bgcolor": "#E5ECF6",
          "polar": {
           "angularaxis": {
            "gridcolor": "white",
            "linecolor": "white",
            "ticks": ""
           },
           "bgcolor": "#E5ECF6",
           "radialaxis": {
            "gridcolor": "white",
            "linecolor": "white",
            "ticks": ""
           }
          },
          "scene": {
           "xaxis": {
            "backgroundcolor": "#E5ECF6",
            "gridcolor": "white",
            "gridwidth": 2,
            "linecolor": "white",
            "showbackground": true,
            "ticks": "",
            "zerolinecolor": "white"
           },
           "yaxis": {
            "backgroundcolor": "#E5ECF6",
            "gridcolor": "white",
            "gridwidth": 2,
            "linecolor": "white",
            "showbackground": true,
            "ticks": "",
            "zerolinecolor": "white"
           },
           "zaxis": {
            "backgroundcolor": "#E5ECF6",
            "gridcolor": "white",
            "gridwidth": 2,
            "linecolor": "white",
            "showbackground": true,
            "ticks": "",
            "zerolinecolor": "white"
           }
          },
          "shapedefaults": {
           "line": {
            "color": "#2a3f5f"
           }
          },
          "ternary": {
           "aaxis": {
            "gridcolor": "white",
            "linecolor": "white",
            "ticks": ""
           },
           "baxis": {
            "gridcolor": "white",
            "linecolor": "white",
            "ticks": ""
           },
           "bgcolor": "#E5ECF6",
           "caxis": {
            "gridcolor": "white",
            "linecolor": "white",
            "ticks": ""
           }
          },
          "title": {
           "x": 0.05
          },
          "xaxis": {
           "automargin": true,
           "gridcolor": "white",
           "linecolor": "white",
           "ticks": "",
           "title": {
            "standoff": 15
           },
           "zerolinecolor": "white",
           "zerolinewidth": 2
          },
          "yaxis": {
           "automargin": true,
           "gridcolor": "white",
           "linecolor": "white",
           "ticks": "",
           "title": {
            "standoff": 15
           },
           "zerolinecolor": "white",
           "zerolinewidth": 2
          }
         }
        },
        "title": {
         "text": "ebird checklists"
        },
        "updatemenus": [
         {
          "active": 1,
          "buttons": [
           {
            "args": [
             null,
             {
              "frame": {
               "duration": 500,
               "redraw": true
              },
              "fromcurrent": true,
              "mode": "immediate",
              "transition": {
               "duration": 500,
               "easing": "linear"
              }
             }
            ],
            "label": "&#9654;",
            "method": "animate"
           },
           {
            "args": [
             [
              null
             ],
             {
              "frame": {
               "duration": 0,
               "redraw": true
              },
              "fromcurrent": true,
              "mode": "immediate",
              "transition": {
               "duration": 0,
               "easing": "linear"
              }
             }
            ],
            "label": "&#9724;",
            "method": "animate"
           }
          ],
          "direction": "left",
          "pad": {
           "r": 10,
           "t": 70
          },
          "showactive": false,
          "type": "buttons",
          "x": 0.1,
          "xanchor": "right",
          "y": 0,
          "yanchor": "top"
         }
        ]
       }
      },
      "image/png": "[encoded data removed]",
      "text/html": [
       "<div>                            <div id=\"214e2b15-db60-4ff9-b3db-da54aef23dc0\" class=\"plotly-graph-div\" style=\"height:600px; width:100%;\"></div>            <script type=\"text/javascript\">                require([\"plotly\"], function(Plotly) {                    window.PLOTLYENV=window.PLOTLYENV || {};                                    if (document.getElementById(\"214e2b15-db60-4ff9-b3db-da54aef23dc0\")) {                    Plotly.newPlot(                        \"214e2b15-db60-4ff9-b3db-da54aef23dc0\",                        [{\"geo\":\"geo\",\"hovertemplate\":\"\\u003cb\\u003e%{hovertext}\\u003c\\u002fb\\u003e\\u003cbr\\u003e\\u003cbr\\u003eYear=2019\\u003cbr\\u003eVisits=%{marker.color}\\u003cbr\\u003eLatitude=%{lat}\\u003cbr\\u003eLongitude=%{lon}\\u003cextra\\u003e\\u003c\\u002fextra\\u003e\",\"hovertext\":[\"Webberville Park (Big)(HOTE 035)\",\"Post Oak Rd\",\"Village Creek Drying Beds (PPW-W 083)\",\"Crandon Park\",\"Emma Long Metro Park\",\"Hornsby Bend (HOTE 037)\",\"Webberville Park (Little)\",\"Wakodahatchee Wetlands\",\"Rio Grande Nature Center SP\",\"Mills Pond at Wells Branch\",\"Aquarena Springs\",\"Viridian Community \\u002f Lake Viridian\",\"Pedernales Falls State Park--Bird Blind area\",\"Willamette University\",\"Buffalo Bayou Park \\u002f Allen Pkwy (UTC 089)\",\"Commons Ford Ranch Metro Park\",\"Walnut Creek WTP\",\"University of Miami--main campus\",\"Pedernales Falls State Park, Cypress Mill US-TX (30.3075,-98.2557)\",\"Crockett High School, Austin US-TX (30.2125,-97.8005)\",\"211\\u2013243 Harris Hill Rd, San Marcos US-TX (29.8961,-97.8844)\"],\"lat\":[30.2114599,30.21934,32.7842795,25.7089712,30.3316943,30.2181988,30.2295016,26.4781984,35.13,30.45,29.8932402,32.794057,30.3252513,44.935823,29.7624774,30.3373826,30.2815651,25.7196139,30.307546,30.212506,29.896059],\"legendgroup\":\"\",\"lon\":[-97.4957657,-97.50301,-97.1266181,-80.1536322,-97.8387451,-97.6458054,-97.5189064,-80.144738,-106.683,-97.68012,-97.9297458,-97.0886707,-98.2556275,-123.0314255,-95.3987932,-97.8930759,-97.6520634,-80.2769709,-98.255658,-97.800517,-97.884389],\"marker\":{\"color\":[1,2,1,1,1,1,1,1,1,1,1,1,2,1,1,3,1,3,1,1,1],\"coloraxis\":\"coloraxis\",\"size\":[1,2,1,1,1,1,1,1,1,1,1,1,2,1,1,3,1,3,1,1,1],\"sizemode\":\"area\",\"sizeref\":0.0175,\"symbol\":\"circle\"},\"mode\":\"markers\",\"name\":\"\",\"showlegend\":false,\"type\":\"scattergeo\"}],                        {\"template\":{\"data\":{\"histogram2dcontour\":[{\"type\":\"histogram2dcontour\",\"colorbar\":{\"outlinewidth\":0,\"ticks\":\"\"},\"colorscale\":[[0.0,\"#0d0887\"],[0.1111111111111111,\"#46039f\"],[0.2222222222222222,\"#7201a8\"],[0.3333333333333333,\"#9c179e\"],[0.4444444444444444,\"#bd3786\"],[0.5555555555555556,\"#d8576b\"],[0.6666666666666666,\"#ed7953\"],[0.7777777777777778,\"#fb9f3a\"],[0.8888888888888888,\"#fdca26\"],[1.0,\"#f0f921\"]]}],\"choropleth\":[{\"type\":\"choropleth\",\"colorbar\":{\"outlinewidth\":0,\"ticks\":\"\"}}],\"histogram2d\":[{\"type\":\"histogram2d\",\"colorbar\":{\"outlinewidth\":0,\"ticks\":\"\"},\"colorscale\":[[0.0,\"#0d0887\"],[0.1111111111111111,\"#46039f\"],[0.2222222222222222,\"#7201a8\"],[0.3333333333333333,\"#9c179e\"],[0.4444444444444444,\"#bd3786\"],[0.5555555555555556,\"#d8576b\"],[0.6666666666666666,\"#ed7953\"],[0.7777777777777778,\"#fb9f3a\"],[0.8888888888888888,\"#fdca26\"],[1.0,\"#f0f921\"]]}],\"heatmap\":[{\"type\":\"heatmap\",\"colorbar\":{\"outlinewidth\":0,\"ticks\":\"\"},\"colorscale\":[[0.0,\"#0d0887\"],[0.1111111111111111,\"#46039f\"],[0.2222222222222222,\"#7201a8\"],[0.3333333333333333,\"#9c179e\"],[0.4444444444444444,\"#bd3786\"],[0.5555555555555556,\"#d8576b\"],[0.6666666666666666,\"#ed7953\"],[0.7777777777777778,\"#fb9f3a\"],[0.8888888888888888,\"#fdca26\"],[1.0,\"#f0f921\"]]}],\"heatmapgl\":[{\"type\":\"heatmapgl\",\"colorbar\":{\"outlinewidth\":0,\"ticks\":\"\"},\"colorscale\":[[0.0,\"#0d0887\"],[0.1111111111111111,\"#46039f\"],[0.2222222222222222,\"#7201a8\"],[0.3333333333333333,\"#9c179e\"],[0.4444444444444444,\"#bd3786\"],[0.5555555555555556,\"#d8576b\"],[0.6666666666666666,\"#ed7953\"],[0.7777777777777778,\"#fb9f3a\"],[0.8888888888888888,\"#fdca26\"],[1.0,\"#f0f921\"]]}],\"contourcarpet\":[{\"type\":\"contourcarpet\",\"colorbar\":{\"outlinewidth\":0,\"ticks\":\"\"}}],\"contour\":[{\"type\":\"contour\",\"colorbar\":{\"outlinewidth\":0,\"ticks\":\"\"},\"colorscale\":[[0.0,\"#0d0887\"],[0.1111111111111111,\"#46039f\"],[0.2222222222222222,\"#7201a8\"],[0.3333333333333333,\"#9c179e\"],[0.4444444444444444,\"#bd3786\"],[0.5555555555555556,\"#d8576b\"],[0.6666666666666666,\"#ed7953\"],[0.7777777777777778,\"#fb9f3a\"],[0.8888888888888888,\"#fdca26\"],[1.0,\"#f0f921\"]]}],\"surface\":[{\"type\":\"surface\",\"colorbar\":{\"outlinewidth\":0,\"ticks\":\"\"},\"colorscale\":[[0.0,\"#0d0887\"],[0.1111111111111111,\"#46039f\"],[0.2222222222222222,\"#7201a8\"],[0.3333333333333333,\"#9c179e\"],[0.4444444444444444,\"#bd3786\"],[0.5555555555555556,\"#d8576b\"],[0.6666666666666666,\"#ed7953\"],[0.7777777777777778,\"#fb9f3a\"],[0.8888888888888888,\"#fdca26\"],[1.0,\"#f0f921\"]]}],\"mesh3d\":[{\"type\":\"mesh3d\",\"colorbar\":{\"outlinewidth\":0,\"ticks\":\"\"}}],\"scatter\":[{\"fillpattern\":{\"fillmode\":\"overlay\",\"size\":10,\"solidity\":0.2},\"type\":\"scatter\"}],\"parcoords\":[{\"type\":\"parcoords\",\"line\":{\"colorbar\":{\"outlinewidth\":0,\"ticks\":\"\"}}}],\"scatterpolargl\":[{\"type\":\"scatterpolargl\",\"marker\":{\"colorbar\":{\"outlinewidth\":0,\"ticks\":\"\"}}}],\"bar\":[{\"error_x\":{\"color\":\"#2a3f5f\"},\"error_y\":{\"color\":\"#2a3f5f\"},\"marker\":{\"line\":{\"color\":\"#E5ECF6\",\"width\":0.5},\"pattern\":{\"fillmode\":\"overlay\",\"size\":10,\"solidity\":0.2}},\"type\":\"bar\"}],\"scattergeo\":[{\"type\":\"scattergeo\",\"marker\":{\"colorbar\":{\"outlinewidth\":0,\"ticks\":\"\"}}}],\"scatterpolar\":[{\"type\":\"scatterpolar\",\"marker\":{\"colorbar\":{\"outlinewidth\":0,\"ticks\":\"\"}}}],\"histogram\":[{\"marker\":{\"pattern\":{\"fillmode\":\"overlay\",\"size\":10,\"solidity\":0.2}},\"type\":\"histogram\"}],\"scattergl\":[{\"type\":\"scattergl\",\"marker\":{\"colorbar\":{\"outlinewidth\":0,\"ticks\":\"\"}}}],\"scatter3d\":[{\"type\":\"scatter3d\",\"line\":{\"colorbar\":{\"outlinewidth\":0,\"ticks\":\"\"}},\"marker\":{\"colorbar\":{\"outlinewidth\":0,\"ticks\":\"\"}}}],\"scattermapbox\":[{\"type\":\"scattermapbox\",\"marker\":{\"colorbar\":{\"outlinewidth\":0,\"ticks\":\"\"}}}],\"scatterternary\":[{\"type\":\"scatterternary\",\"marker\":{\"colorbar\":{\"outlinewidth\":0,\"ticks\":\"\"}}}],\"scattercarpet\":[{\"type\":\"scattercarpet\",\"marker\":{\"colorbar\":{\"outlinewidth\":0,\"ticks\":\"\"}}}],\"carpet\":[{\"aaxis\":{\"endlinecolor\":\"#2a3f5f\",\"gridcolor\":\"white\",\"linecolor\":\"white\",\"minorgridcolor\":\"white\",\"startlinecolor\":\"#2a3f5f\"},\"baxis\":{\"endlinecolor\":\"#2a3f5f\",\"gridcolor\":\"white\",\"linecolor\":\"white\",\"minorgridcolor\":\"white\",\"startlinecolor\":\"#2a3f5f\"},\"type\":\"carpet\"}],\"table\":[{\"cells\":{\"fill\":{\"color\":\"#EBF0F8\"},\"line\":{\"color\":\"white\"}},\"header\":{\"fill\":{\"color\":\"#C8D4E3\"},\"line\":{\"color\":\"white\"}},\"type\":\"table\"}],\"barpolar\":[{\"marker\":{\"line\":{\"color\":\"#E5ECF6\",\"width\":0.5},\"pattern\":{\"fillmode\":\"overlay\",\"size\":10,\"solidity\":0.2}},\"type\":\"barpolar\"}],\"pie\":[{\"automargin\":true,\"type\":\"pie\"}]},\"layout\":{\"autotypenumbers\":\"strict\",\"colorway\":[\"#636efa\",\"#EF553B\",\"#00cc96\",\"#ab63fa\",\"#FFA15A\",\"#19d3f3\",\"#FF6692\",\"#B6E880\",\"#FF97FF\",\"#FECB52\"],\"font\":{\"color\":\"#2a3f5f\"},\"hovermode\":\"closest\",\"hoverlabel\":{\"align\":\"left\"},\"paper_bgcolor\":\"white\",\"plot_bgcolor\":\"#E5ECF6\",\"polar\":{\"bgcolor\":\"#E5ECF6\",\"angularaxis\":{\"gridcolor\":\"white\",\"linecolor\":\"white\",\"ticks\":\"\"},\"radialaxis\":{\"gridcolor\":\"white\",\"linecolor\":\"white\",\"ticks\":\"\"}},\"ternary\":{\"bgcolor\":\"#E5ECF6\",\"aaxis\":{\"gridcolor\":\"white\",\"linecolor\":\"white\",\"ticks\":\"\"},\"baxis\":{\"gridcolor\":\"white\",\"linecolor\":\"white\",\"ticks\":\"\"},\"caxis\":{\"gridcolor\":\"white\",\"linecolor\":\"white\",\"ticks\":\"\"}},\"coloraxis\":{\"colorbar\":{\"outlinewidth\":0,\"ticks\":\"\"}},\"colorscale\":{\"sequential\":[[0.0,\"#0d0887\"],[0.1111111111111111,\"#46039f\"],[0.2222222222222222,\"#7201a8\"],[0.3333333333333333,\"#9c179e\"],[0.4444444444444444,\"#bd3786\"],[0.5555555555555556,\"#d8576b\"],[0.6666666666666666,\"#ed7953\"],[0.7777777777777778,\"#fb9f3a\"],[0.8888888888888888,\"#fdca26\"],[1.0,\"#f0f921\"]],\"sequentialminus\":[[0.0,\"#0d0887\"],[0.1111111111111111,\"#46039f\"],[0.2222222222222222,\"#7201a8\"],[0.3333333333333333,\"#9c179e\"],[0.4444444444444444,\"#bd3786\"],[0.5555555555555556,\"#d8576b\"],[0.6666666666666666,\"#ed7953\"],[0.7777777777777778,\"#fb9f3a\"],[0.8888888888888888,\"#fdca26\"],[1.0,\"#f0f921\"]],\"diverging\":[[0,\"#8e0152\"],[0.1,\"#c51b7d\"],[0.2,\"#de77ae\"],[0.3,\"#f1b6da\"],[0.4,\"#fde0ef\"],[0.5,\"#f7f7f7\"],[0.6,\"#e6f5d0\"],[0.7,\"#b8e186\"],[0.8,\"#7fbc41\"],[0.9,\"#4d9221\"],[1,\"#276419\"]]},\"xaxis\":{\"gridcolor\":\"white\",\"linecolor\":\"white\",\"ticks\":\"\",\"title\":{\"standoff\":15},\"zerolinecolor\":\"white\",\"automargin\":true,\"zerolinewidth\":2},\"yaxis\":{\"gridcolor\":\"white\",\"linecolor\":\"white\",\"ticks\":\"\",\"title\":{\"standoff\":15},\"zerolinecolor\":\"white\",\"automargin\":true,\"zerolinewidth\":2},\"scene\":{\"xaxis\":{\"backgroundcolor\":\"#E5ECF6\",\"gridcolor\":\"white\",\"linecolor\":\"white\",\"showbackground\":true,\"ticks\":\"\",\"zerolinecolor\":\"white\",\"gridwidth\":2},\"yaxis\":{\"backgroundcolor\":\"#E5ECF6\",\"gridcolor\":\"white\",\"linecolor\":\"white\",\"showbackground\":true,\"ticks\":\"\",\"zerolinecolor\":\"white\",\"gridwidth\":2},\"zaxis\":{\"backgroundcolor\":\"#E5ECF6\",\"gridcolor\":\"white\",\"linecolor\":\"white\",\"showbackground\":true,\"ticks\":\"\",\"zerolinecolor\":\"white\",\"gridwidth\":2}},\"shapedefaults\":{\"line\":{\"color\":\"#2a3f5f\"}},\"annotationdefaults\":{\"arrowcolor\":\"#2a3f5f\",\"arrowhead\":0,\"arrowwidth\":1},\"geo\":{\"bgcolor\":\"white\",\"landcolor\":\"#E5ECF6\",\"subunitcolor\":\"white\",\"showland\":true,\"showlakes\":true,\"lakecolor\":\"white\"},\"title\":{\"x\":0.05},\"mapbox\":{\"style\":\"light\"}}},\"geo\":{\"domain\":{\"x\":[0.0,1.0],\"y\":[0.0,1.0]},\"center\":{},\"scope\":\"usa\"},\"coloraxis\":{\"colorbar\":{\"title\":{\"text\":\"Visits\"}},\"colorscale\":[[0.0,\"#0d0887\"],[0.1111111111111111,\"#46039f\"],[0.2222222222222222,\"#7201a8\"],[0.3333333333333333,\"#9c179e\"],[0.4444444444444444,\"#bd3786\"],[0.5555555555555556,\"#d8576b\"],[0.6666666666666666,\"#ed7953\"],[0.7777777777777778,\"#fb9f3a\"],[0.8888888888888888,\"#fdca26\"],[1.0,\"#f0f921\"]]},\"legend\":{\"tracegroupgap\":0,\"itemsizing\":\"constant\"},\"title\":{\"text\":\"ebird checklists\"},\"height\":600,\"updatemenus\":[{\"buttons\":[{\"args\":[null,{\"frame\":{\"duration\":500,\"redraw\":true},\"mode\":\"immediate\",\"fromcurrent\":true,\"transition\":{\"duration\":500,\"easing\":\"linear\"}}],\"label\":\"&#9654;\",\"method\":\"animate\"},{\"args\":[[null],{\"frame\":{\"duration\":0,\"redraw\":true},\"mode\":\"immediate\",\"fromcurrent\":true,\"transition\":{\"duration\":0,\"easing\":\"linear\"}}],\"label\":\"&#9724;\",\"method\":\"animate\"}],\"direction\":\"left\",\"pad\":{\"r\":10,\"t\":70},\"showactive\":false,\"type\":\"buttons\",\"x\":0.1,\"xanchor\":\"right\",\"y\":0,\"yanchor\":\"top\"}],\"sliders\":[{\"active\":0,\"currentvalue\":{\"prefix\":\"Year=\"},\"len\":0.9,\"pad\":{\"b\":10,\"t\":60},\"steps\":[{\"args\":[[\"2019\"],{\"frame\":{\"duration\":0,\"redraw\":true},\"mode\":\"immediate\",\"fromcurrent\":true,\"transition\":{\"duration\":0,\"easing\":\"linear\"}}],\"label\":\"2019\",\"method\":\"animate\"},{\"args\":[[\"2020\"],{\"frame\":{\"duration\":0,\"redraw\":true},\"mode\":\"immediate\",\"fromcurrent\":true,\"transition\":{\"duration\":0,\"easing\":\"linear\"}}],\"label\":\"2020\",\"method\":\"animate\"},{\"args\":[[\"2021\"],{\"frame\":{\"duration\":0,\"redraw\":true},\"mode\":\"immediate\",\"fromcurrent\":true,\"transition\":{\"duration\":0,\"easing\":\"linear\"}}],\"label\":\"2021\",\"method\":\"animate\"},{\"args\":[[\"2022\"],{\"frame\":{\"duration\":0,\"redraw\":true},\"mode\":\"immediate\",\"fromcurrent\":true,\"transition\":{\"duration\":0,\"easing\":\"linear\"}}],\"label\":\"2022\",\"method\":\"animate\"},{\"args\":[[\"2023\"],{\"frame\":{\"duration\":0,\"redraw\":true},\"mode\":\"immediate\",\"fromcurrent\":true,\"transition\":{\"duration\":0,\"easing\":\"linear\"}}],\"label\":\"2023\",\"method\":\"animate\"}],\"x\":0.1,\"xanchor\":\"left\",\"y\":0,\"yanchor\":\"top\"}]},                        {\"responsive\": true}                    ).then(function(){\n",
       "                            Plotly.addFrames('214e2b15-db60-4ff9-b3db-da54aef23dc0', [{\"data\":[{\"geo\":\"geo\",\"hovertemplate\":\"\\u003cb\\u003e%{hovertext}\\u003c\\u002fb\\u003e\\u003cbr\\u003e\\u003cbr\\u003eYear=2019\\u003cbr\\u003eVisits=%{marker.color}\\u003cbr\\u003eLatitude=%{lat}\\u003cbr\\u003eLongitude=%{lon}\\u003cextra\\u003e\\u003c\\u002fextra\\u003e\",\"hovertext\":[\"Webberville Park (Big)(HOTE 035)\",\"Post Oak Rd\",\"Village Creek Drying Beds (PPW-W 083)\",\"Crandon Park\",\"Emma Long Metro Park\",\"Hornsby Bend (HOTE 037)\",\"Webberville Park (Little)\",\"Wakodahatchee Wetlands\",\"Rio Grande Nature Center SP\",\"Mills Pond at Wells Branch\",\"Aquarena Springs\",\"Viridian Community \\u002f Lake Viridian\",\"Pedernales Falls State Park--Bird Blind area\",\"Willamette University\",\"Buffalo Bayou Park \\u002f Allen Pkwy (UTC 089)\",\"Commons Ford Ranch Metro Park\",\"Walnut Creek WTP\",\"University of Miami--main campus\",\"Pedernales Falls State Park, Cypress Mill US-TX (30.3075,-98.2557)\",\"Crockett High School, Austin US-TX (30.2125,-97.8005)\",\"211\\u2013243 Harris Hill Rd, San Marcos US-TX (29.8961,-97.8844)\"],\"lat\":[30.2114599,30.21934,32.7842795,25.7089712,30.3316943,30.2181988,30.2295016,26.4781984,35.13,30.45,29.8932402,32.794057,30.3252513,44.935823,29.7624774,30.3373826,30.2815651,25.7196139,30.307546,30.212506,29.896059],\"legendgroup\":\"\",\"lon\":[-97.4957657,-97.50301,-97.1266181,-80.1536322,-97.8387451,-97.6458054,-97.5189064,-80.144738,-106.683,-97.68012,-97.9297458,-97.0886707,-98.2556275,-123.0314255,-95.3987932,-97.8930759,-97.6520634,-80.2769709,-98.255658,-97.800517,-97.884389],\"marker\":{\"color\":[1,2,1,1,1,1,1,1,1,1,1,1,2,1,1,3,1,3,1,1,1],\"coloraxis\":\"coloraxis\",\"size\":[1,2,1,1,1,1,1,1,1,1,1,1,2,1,1,3,1,3,1,1,1],\"sizemode\":\"area\",\"sizeref\":0.0175,\"symbol\":\"circle\"},\"mode\":\"markers\",\"name\":\"\",\"showlegend\":false,\"type\":\"scattergeo\"}],\"name\":\"2019\"},{\"data\":[{\"geo\":\"geo\",\"hovertemplate\":\"\\u003cb\\u003e%{hovertext}\\u003c\\u002fb\\u003e\\u003cbr\\u003e\\u003cbr\\u003eYear=2020\\u003cbr\\u003eVisits=%{marker.color}\\u003cbr\\u003eLatitude=%{lat}\\u003cbr\\u003eLongitude=%{lon}\\u003cextra\\u003e\\u003c\\u002fextra\\u003e\",\"hovertext\":[\"2480\\u20132572 Post Oak Rd, Webberville US-TX 30.21987, -97.50461\",\"Toney Burger Activity Center, Sunset Valley US-TX 30.22865, -97.80873\",\"266 Wilbarger Bend Rd, Bastrop US-TX 30.16602, -97.41998\",\"199 Wilbarger Bend Rd, Bastrop US-TX 30.16797, -97.41840\",\"1150\\u20131198 Upper Elgin River Rd, Elgin US-TX 30.28367, -97.43992\",\"Commons Ford Ranch Metropolitan Park, Austin US-TX 30.33726, -97.89412\",\"Granger Lake--Willis Creek Park\",\"1211\\u20131425 County Road 249, Luling US-TX 29.61437, -97.61663\",\"1613\\u20131653 Lemond Rd, Utopia US-TX 29.64055, -99.58847\",\"Commons Ford Ranch Metropolitan Park, Austin US-TX 30.33785, -97.89094\",\"Fort Anahuac Park (UTC 045)\",\"Lost Maples SNA (HOTW 061)\",\"Sea Rim SP (UTC 027)\",\"High Island--Smith Oaks Sanctuary (UTC 052)\",\"Auditorium Shores \\u002f Disch Field\",\"Anahuac NWR--Shoveler Pond Loop\",\"Bastrop Co.--Earhardt rd.\",\"Palmetto SP (CTC 029)\",\"Buescher SP (HOTE 033)\",\"Barkley Meadows Park\",\"Hill Country SNA--(Bandera Co. portion \\u002f N. of Bandera Creek rd.)(HOTW 045)\",\"Richard Moya Park (HOTE 038)\",\"Granger Lake Dam area & Overlook\",\"Williamson Co.--Southwest Regional Park\",\"McKinney Falls SP (HOTE 039)\",\"Lockhart SP\",\"Key West\",\"Commons Ford Ranch Metro Park\",\"Cook's Slough Nature Ctr. (HOTW 025)\",\"Sunset Valley Nature Preserve\",\"Brushy Creek Lake Park\",\"Lake Pflugerville\",\"Cougar Creek Greenbelt\",\"Town Lake--Shoal Beach, Austin\",\"Smith Point--James H. Robbins Park\",\"Crescent Bend Nature Park (Bexar Co.)\",\"Smith Point--Candy Abshier WMA (UTC 048)(GCBO Hawk Watch loc.)\",\"Granger Lake--Pecan Grove WMA\",\"Granger Lake--Taylor Park\",\"Union Chapel Cemetery, Utley\",\"Granger Lake--Friendship Park\",\"Post Oak Rd Pond, Webberville\"],\"lat\":[30.219866,30.228647,30.166022,30.167966,30.283668,30.337263,30.6953496,29.614369,29.64055,30.337851,29.7562008,29.8155087,29.6755873,29.573681,30.2631381,29.609993,30.1531429,29.5887112,30.0624082,30.186523,29.6277682,30.1701185,30.6855668,30.5600437,30.1836783,29.8510385,24.5558671,30.3373826,29.1873567,30.2219177,30.5085076,30.436908,30.2263395,30.2652945,29.5462532,29.5502272,29.526073,30.7016966,30.6730578,30.1935015,30.7190197,30.2240463],\"legendgroup\":\"\",\"lon\":[-97.504612,-97.808734,-97.419976,-97.418399,-97.439915,-97.89412,-97.3850441,-97.616627,-99.588473,-97.890943,-94.685997,-99.5762582,-94.0421026,-94.3898535,-97.7522091,-94.551912,-97.3906231,-97.5828979,-97.1755683,-97.626068,-99.1819096,-97.667352,-97.3380285,-97.7635574,-97.7258349,-97.698015,-81.7915821,-97.8930759,-99.7886572,-97.8193474,-97.7719923,-97.5692797,-97.8168529,-97.752142,-94.788124,-98.2325739,-94.765987,-97.3214436,-97.3659897,-97.4288495,-97.3401117,-97.4922257],\"marker\":{\"color\":[1,1,1,1,1,1,1,1,4,1,1,1,1,1,1,1,1,1,1,2,1,1,1,1,1,1,2,1,1,1,1,1,1,1,1,1,1,1,1,1,2,1],\"coloraxis\":\"coloraxis\",\"size\":[1,1,1,1,1,1,1,1,4,1,1,1,1,1,1,1,1,1,1,2,1,1,1,1,1,1,2,1,1,1,1,1,1,1,1,1,1,1,1,1,2,1],\"sizemode\":\"area\",\"sizeref\":0.0175,\"symbol\":\"circle\"},\"mode\":\"markers\",\"name\":\"\",\"showlegend\":false,\"type\":\"scattergeo\"}],\"name\":\"2020\"},{\"data\":[{\"geo\":\"geo\",\"hovertemplate\":\"\\u003cb\\u003e%{hovertext}\\u003c\\u002fb\\u003e\\u003cbr\\u003e\\u003cbr\\u003eYear=2021\\u003cbr\\u003eVisits=%{marker.color}\\u003cbr\\u003eLatitude=%{lat}\\u003cbr\\u003eLongitude=%{lon}\\u003cextra\\u003e\\u003c\\u002fextra\\u003e\",\"hovertext\":[\"Aransas NWR--Wildlife Tower (Calhoun Co.)\",\"Braddock Bay Park--Hawk Watch\",\"Hamlin Beach SP\",\"Goose Island SP--Big Tree\\u002fLamar Beach rd area\",\"Pedernales River Nature Park (LCRA)\",\"Goose Island SP--Campground area\",\"Pedernales Falls State Park (HOTE 050)\",\"Aransas NWR (CTC 037) (Aransas Co.)\",\"Mustang Island SP (CTC 060)\",\"Radnor Lake SP\",\"Rockport- Port Bay Road\",\"Rockport- Water Street\",\"Miller Creek Loop, Johnson City US-TX 30.20293, -98.41517\",\"7249\\u20137405 Miller Creek Loop, Johnson City US-TX 30.20340, -98.40045\",\"3526\\u20133546 Menchaca Rd, Austin US-TX 30.23803, -97.78324\",\"Commons Ford Ranch Metropolitan Park, Austin US-TX 30.33786, -97.89107\",\"Aransas NWR--Heron Flats Trail (Aransas Co.)\",\"Howard Murph Airport Park\",\"Santa Fe National Forest, Rowe US-NM 35.26671, -105.46142\",\"Santa Fe National Forest, Rowe US-NM 35.26788, -105.46030\",\"705 N Elk St, Fredericksburg US-TX 30.27648, -98.85971\",\"2020 SH-35 Loop, Aransas Pass US-TX 27.93351, -97.12228\",\"1216 Windmill Ct, Arlington US-TX 32.72354, -97.13494\",\"13047\\u201313199 FM-971, Granger US-TX 30.70438, -97.47347\",\"Heritage Park, Fort Worth US-TX 32.75853, -97.33522\",\"130 W Prairie Rd, Fulton US-TX 28.07427, -97.03844\",\"Aransas National Wildlife Refuge, Rockport US-TX 28.27808, -96.80881\",\"Aransas NWR--Fishing pier area (Aransas Co.)\",\"Barton Creek at Loop 360\",\"Nicholas Dawson Park\",\"Landa Park (HOTE 069)\",\"Braddock Bay--East Spit\",\"Attwater Prairie Chicken NWR (CTC 004)\",\"Goose Island SP (CTC 048)\",\"Veterans Park, Beeville\",\"Aquarena Springs\",\"Mendon Ponds Park--Bird Song Trail\",\"Barkley Meadows Park\",\"Hazel Bazemore Park (CTC 078)\",\"Pedernales Falls State Park--Bird Blind area\",\"Goose Island SP--islet out from pier\",\"Rockport Beach Park\",\"Southeast Greenway, Mueller\",\"Leonabelle Turnbull Birding Ctr. (CTC 057)\",\"Rio Grande Valley SP--Rio Grande Nature Center Bosque Trails\",\"McKinney Falls SP (HOTE 039)\",\"Balcones Canyonlands NWR--Cactus Rocks Trail\",\"Copano Bay State Fishing Pier (CTC 049)\",\"Commons Ford Ranch Metro Park\",\"Devine Lake Park\",\"Walter E. Long Lake (HOTE-036)\",\"Rockport- Little Bay\",\"Post City Park\",\"Whitfield Wildlife Conservation Area\",\"Eagle Lake Municipal Pk\",\"Stones River Greenway--J. Percy Priest Trailhead and Dog Park\",\"Berry Springs Park, Georgetown\",\"Sunset Lake  (Portland)\",\"Rockport- Cape Valero Drive\",\"Crescent Bend Nature Park (Bexar Co.)\",\"San Marcos River Walk\",\"Aransas NWR--Oak Sanctuary Trail (Aransas Co.)\",\"Granger Lake--Wilson H. Fox Park\",\"Holiday Beach Pond\",\"Southwest Greenway & Butterfly Garden (Mueller)\",\"Zilker Metro Park--Barton Springs area\",\"Granger Lake--Friendship Park\"],\"lat\":[28.2504014,43.30365,43.3613788,28.1497681,30.2870128,28.137621,30.3067833,28.3108004,27.6651173,36.0602989,28.0221362,28.0148243,30.202927,30.2034,30.238028,30.337858,28.3015409,28.0949013,35.266707,35.267881,30.276483,27.933509,32.723537,30.704383,32.75853,28.074266,28.27808,28.2909257,30.2442387,30.2523947,29.7117824,43.3107525,29.671349,28.13255,28.4028736,29.8932402,43.0202323,30.186523,27.8666445,30.3252513,28.123237,28.0308958,30.2904776,27.8275297,35.131088,30.1836783,30.5055449,28.1138527,30.3373826,30.5832667,30.2836775,28.0359252,33.1815972,34.6678408,29.5854152,36.1597818,30.6820084,27.8679131,28.0421467,29.5502272,29.8813229,28.287376,30.681953,28.1622411,30.2891992,30.2640342,30.7190197],\"legendgroup\":\"\",\"lon\":[-96.7894328,-77.7163028,-77.9538738,-96.976254,-98.3970737,-96.9889086,-98.2512236,-96.8011664,-97.179512,-86.8016968,-97.127037,-97.0530939,-98.41517,-98.400452,-97.783243,-97.891066,-96.8063205,-97.0517696,-105.461421,-105.460299,-98.859712,-97.122277,-97.134943,-97.473471,-97.335224,-97.038443,-96.808813,-96.8098558,-97.8020096,-97.7547169,-98.1356484,-77.7073288,-96.2737083,-96.985052,-97.7689033,-97.9297458,-77.5809949,-97.626068,-97.6416233,-98.2556275,-96.9776058,-97.0371276,-97.6929778,-97.0789558,-106.6856146,-97.7258349,-97.9798198,-97.0248234,-97.8930759,-97.8826046,-97.6080322,-97.0420432,-101.3763857,-106.7382717,-96.3365001,-86.6214949,-97.6417637,-97.3274088,-97.1168125,-98.2325739,-97.934854,-96.8102854,-97.3535872,-96.9967246,-97.7030468,-97.7709818,-97.3401117],\"marker\":{\"color\":[1,1,1,2,1,4,1,1,1,1,1,1,1,1,2,1,1,1,1,1,1,1,1,1,1,1,1,1,1,2,1,1,1,2,1,1,1,1,1,1,1,1,2,1,1,1,1,1,1,1,2,1,1,1,1,1,1,1,1,1,1,1,1,1,3,3,1],\"coloraxis\":\"coloraxis\",\"size\":[1,1,1,2,1,4,1,1,1,1,1,1,1,1,2,1,1,1,1,1,1,1,1,1,1,1,1,1,1,2,1,1,1,2,1,1,1,1,1,1,1,1,2,1,1,1,1,1,1,1,2,1,1,1,1,1,1,1,1,1,1,1,1,1,3,3,1],\"sizemode\":\"area\",\"sizeref\":0.0175,\"symbol\":\"circle\"},\"mode\":\"markers\",\"name\":\"\",\"showlegend\":false,\"type\":\"scattergeo\"}],\"name\":\"2021\"},{\"data\":[{\"geo\":\"geo\",\"hovertemplate\":\"\\u003cb\\u003e%{hovertext}\\u003c\\u002fb\\u003e\\u003cbr\\u003e\\u003cbr\\u003eYear=2022\\u003cbr\\u003eVisits=%{marker.color}\\u003cbr\\u003eLatitude=%{lat}\\u003cbr\\u003eLongitude=%{lon}\\u003cextra\\u003e\\u003c\\u002fextra\\u003e\",\"hovertext\":[\"Bauerle Ranch Park\",\"Webberville Park (Big)(HOTE 035)\",\"Trammell Crow Park\",\"Bentsen-Rio Grande Val. SP--HQ Buildings area\",\"Bentsen-Rio Grande Val. SP WBC (Mission) (LTC 069)\",\"Resaca de la Palma SP WBC (Brownsville) (LTC 048)\",\"Choke Canyon SP--Birding Blind\",\"Aransas NWR--Heron Flats Trail (Aransas Co.)\",\"907 Sandhill Branch Dr, Austin US-TX 30.17505, -97.80798\",\"Retention ponds - btw Slaughter and Sugarberry Ln\",\"8881\\u20139171 US-183, Gonzales US-TX 29.58686, -97.53341\",\"Lake Bastrop--North Shore Park\",\"5672 Oak Blvd, Austin US-TX 30.23750, -97.84751\",\"FM-3013, Cat Spring US-TX 29.63764, -96.26372\",\"Lakeshore at Town Lake Metropolitan Park, Austin US-TX 30.24394, -97.72051\",\"99 SH-150 Loop, Bastrop US-TX 30.10768, -97.32754\",\"Cove Park\",\"9901 Brodie Ln, Austin US-TX 30.18510, -97.84744\",\"Nicholas Dawson Park\",\"4232 Mackland Ave NE, Albuquerque US-NM 35.09012, -106.59570\",\"14038\\u201314084 SH-72, Kenedy US-TX 28.64898, -98.00720\",\"10047\\u201310049 US-281 S, Alice US-TX 27.49582, -98.10528\",\"5270\\u20135294 Military Rd, Mission US-TX 26.15545, -98.32475\",\"Lady Bird Lake--Peninsula Trail\",\"Aransas NWR--Big Tree Trail\",\"Anzalduas Park (LTC 068)\",\"Palmetto SP (CTC 029)\",\"Edinburg Scenic Wetlands WBC (LTC 061)\",\"Southpark Meadows Ctr., Austin\",\"Estero Llano Grande SP WBC (LTC 054)\",\"Attwater Prairie Chicken NWR (CTC 004)\",\"Lake Findley (Lake Alice)\",\"Dittmar Park\",\"Aquarena Springs\",\"Stanley Park\",\"Buescher SP (HOTE 033)\",\"Blunn Creek Preserve\",\"Right Bank Area\",\"Choke Canyon SP--Calliham Unit (McMullen Co.)(CTC 082)\",\"Barkley Meadows Park\",\"Hazel Bazemore Park (CTC 078)\",\"Milton Reimers Ranch Park\",\"Active Pass\",\"Falfurrias Rest Area (LTC 004)\",\"Blucher Park (CTC 071)\",\"Pollywog Pond (CTC 077)\",\"Southeast Greenway, Mueller\",\"McKinney Falls SP (HOTE 039)\",\"Barton Creek Wilderness Park\",\"Commons Ford Ranch Metro Park\",\"Mueller Lake Park\",\"Trinity Park, Fort Worth\",\"Lake Pflugerville\",\"Attwater Prairie-Chicken NWR--Horseshoe Lake Trail\",\"Roy G. Guerrero Colorado River Metro Park\",\"Walter E. Long Lake (HOTE-036)\",\"Eagle Lake Municipal Pk\",\"Fred Jones Nature Sanctuary (CTC 074)\",\"Bentsen-Rio Grande Valley SP--La Familia Nature ctr. area\",\"Charleson Park & Seawall\",\"Aransas NWR--Songbird Loop Trail\",\"Chaetura Canyon Sanctuary (restricted access)\",\"Rockport- Tule Creek Nature Preserve\",\"Mary Moore Searight Pk\",\"Southwest Greenway & Butterfly Garden (Mueller)\",\"Zilker Metro Park--Barton Springs area\",\"Lake Creek Trail--East (Williamson Co.)\"],\"lat\":[30.1619743,30.2114599,32.7909291,26.1856055,26.1849709,25.9965839,28.4886513,28.3015409,30.175051,30.174645,29.58686,30.1659068,30.237497,29.637636,30.243938,30.107684,27.83761,30.185103,30.2523947,35.090122,28.648985,27.495819,26.155455,30.2464761,28.2525656,26.1384105,29.5887112,26.2905822,30.1570294,26.1268335,29.671349,27.7888887,30.1847244,29.8932402,49.3029688,30.0624082,30.2296366,27.8609986,28.4717282,30.186523,27.8666445,30.3641504,48.85682,27.094091,27.791317,27.8627509,30.2904776,30.1836783,30.269106,30.3373826,30.2972402,32.7429232,30.436908,29.673529,30.246172,30.2836775,29.5854152,27.8795216,26.183803,49.267555,28.299126,30.3764071,28.0502717,30.15767,30.2891992,30.2640342,30.4626635],\"legendgroup\":\"\",\"lon\":[-97.84338,-97.4957657,-96.834567,-98.3799398,-98.3793885,-97.5690513,-98.3411523,-96.8063205,-97.807982,-97.818148,-97.533408,-97.2798646,-97.847506,-96.26372,-97.72051,-97.327535,-97.219445,-97.847438,-97.7547169,-106.595705,-98.007198,-98.105285,-98.324746,-97.7206448,-96.7910099,-98.3327866,-97.5828979,-98.1351909,-97.7951929,-97.9578167,-96.2737083,-98.0641977,-97.8025246,-97.9297458,-123.1432629,-97.1755683,-97.7471068,-97.3410907,-98.3394384,-97.626068,-97.6416233,-98.1237811,-123.31239,-98.146384,-97.399174,-97.612361,-97.6929778,-97.7258349,-97.8241937,-97.8930759,-97.7063084,-97.3538446,-97.5692797,-96.269537,-97.7049763,-97.6080322,-96.3365001,-97.40942,-98.38074,-123.12497,-96.8075267,-97.9223597,-97.0428348,-97.8066874,-97.7030468,-97.7709818,-97.7598189],\"marker\":{\"color\":[1,1,1,1,1,1,1,1,2,1,1,1,1,1,1,1,1,1,2,1,1,1,1,1,1,1,1,1,1,1,1,1,3,2,1,1,1,1,2,1,1,1,1,1,1,1,4,1,1,3,1,1,1,1,2,1,1,1,1,1,1,1,1,2,1,2,1],\"coloraxis\":\"coloraxis\",\"size\":[1,1,1,1,1,1,1,1,2,1,1,1,1,1,1,1,1,1,2,1,1,1,1,1,1,1,1,1,1,1,1,1,3,2,1,1,1,1,2,1,1,1,1,1,1,1,4,1,1,3,1,1,1,1,2,1,1,1,1,1,1,1,1,2,1,2,1],\"sizemode\":\"area\",\"sizeref\":0.0175,\"symbol\":\"circle\"},\"mode\":\"markers\",\"name\":\"\",\"showlegend\":false,\"type\":\"scattergeo\"}],\"name\":\"2022\"},{\"data\":[{\"geo\":\"geo\",\"hovertemplate\":\"\\u003cb\\u003e%{hovertext}\\u003c\\u002fb\\u003e\\u003cbr\\u003e\\u003cbr\\u003eYear=2023\\u003cbr\\u003eVisits=%{marker.color}\\u003cbr\\u003eLatitude=%{lat}\\u003cbr\\u003eLongitude=%{lon}\\u003cextra\\u003e\\u003c\\u002fextra\\u003e\",\"hovertext\":[\"Hyde Park--The Serpentine\",\"Bauerle Ranch Park\",\"Goodnight Ranch Community Ponds\",\"Calton Hill\",\"Fort Zachary Taylor Historic SP\",\"Truman Waterfront Park\",\"Lakeshore Park, Austin\",\"Hornsby Bend (HOTE 037)\",\"Bamberger Nature Park\",\"Circle C Ranch Metro Park\",\"Mitchell Lake Audubon Center (HOTE 103)\",\"Austin Community College\\u2014Eastview Campus\",\"907 Sandhill Branch Dr, Austin US-TX 30.17505, -97.80798\",\"Lake Bastrop--North Shore Park\",\"Charro Ranch Park\",\"Mills Pond at Wells Branch\",\"Nicholas Dawson Park\",\"4232 Mackland Ave NE, Albuquerque US-NM 35.09012, -106.59570\",\"Dunkeld area\",\"317 William St, Key West US-FL 24.55951, -81.80025\",\"205 Simonton St, Key West US-FL 24.55966, -81.80366\",\"629 Caroline St, Key West US-FL 24.55982, -81.80228\",\"6705 SH-71 E, Austin US-TX 30.23380, -97.86506\",\"8549\\u20138599 Cockney Dr, Austin US-TX 30.18064, -97.80152\",\"Parmer Village area\",\"Green Park\",\"Waller Beach At Town Lake Metro Park, Austin US-TX (30.2546,-97.7396)\",\"HEB Oaks at Slaughter\",\"13100 Section House Rd, Manchaca US-TX 30.11786, -97.83221\",\"1548 Old Sayers Rd, Bastrop US-TX 30.23832, -97.33947\",\"1601\\u20131621 Old Sayers Rd, Bastrop US-TX 30.23290, -97.33702\",\"Sayers Cemetery\",\"385 Pershing Blvd, Bastrop US-TX 30.19687, -97.29022\",\"St Mary's Gardens, London GB-England 51.49464, -0.12015\",\"Southpark Meadows, Austin US-TX 30.16571, -97.79183\",\"2267\\u20132299 Gatlin Creek Rd, Dripping Springs US-TX 30.12299, -98.13559\",\"Dittmar Park\",\"Milton Reimers Ranch Park\",\"Garrison Bight Marina\",\"Thomas Memorial Park, Elgin\",\"Southeast Greenway, Mueller\",\"McKinney Falls SP (HOTE 039)\",\"Pace Bend Park--Mesquite Point\",\"Key West\",\"Pace Bend Park\",\"Commons Ford Ranch Metro Park\",\"The Kelpies\",\"Roy G. Guerrero Colorado River Metro Park\",\"Lake Creek Trail--West (Williamson Co.)\",\"JJ Pickle Research Campus\",\"Archbishop's Park\",\"Rio Grande Valley SP--Tingley Beach bosque ponds\",\"Mary Moore Searight Pk\",\"Hillside Gardens (Edinburgh)\"],\"lat\":[51.5051628,30.1619743,30.1573524,55.9548704,24.5463,24.555724,30.247,30.2181988,29.5601056,30.1997979,29.3105956,30.26832,30.175051,30.1659068,30.1625123,30.45,30.2523947,35.090122,56.5634554,24.559511,24.559658,24.559816,30.233804,30.180642,30.4647222,51.5036913,30.254586,30.169495,30.117858,30.238315,30.232904,30.233565,30.196872,51.494641,30.165705,30.122985,30.1847244,30.3641504,24.5605901,30.3435838,30.2904776,30.1836783,30.4558508,24.5558671,30.4417921,30.3373826,56.0199308,30.246172,30.4673656,30.387749,51.4971621,35.0807861,30.15767,55.9573323],\"legendgroup\":\"\",\"lon\":[-0.1645374,-97.84338,-97.7579449,-3.1826019,-81.8106,-81.8075459,-97.7152,-97.6458054,-98.6302328,-97.8864806,-98.4996938,-97.705229,-97.807982,-97.2798646,-98.0750585,-97.68012,-97.7547169,-106.595705,-3.5856628,-81.800248,-81.803664,-81.802276,-97.865057,-97.801518,-97.7683333,-0.1437128,-97.739565,-97.786605,-97.832211,-97.339469,-97.337024,-97.327449,-97.290219,-0.120152,-97.79183,-98.135594,-97.8025246,-98.1237811,-81.7844582,-97.3628193,-97.6929778,-97.7258349,-98.0097842,-81.7915821,-98.0358982,-97.8930759,-3.7561226,-97.7049763,-97.7771286,-97.7281415,-0.116837,-106.6717958,-97.8066874,-3.1771177],\"marker\":{\"color\":[1,1,1,1,1,1,1,2,1,1,4,1,2,1,1,1,1,1,1,1,1,1,1,1,1,1,1,1,1,1,1,1,1,1,1,1,7,2,1,1,1,1,1,1,1,3,1,1,1,1,2,1,2,1],\"coloraxis\":\"coloraxis\",\"size\":[1,1,1,1,1,1,1,2,1,1,4,1,2,1,1,1,1,1,1,1,1,1,1,1,1,1,1,1,1,1,1,1,1,1,1,1,7,2,1,1,1,1,1,1,1,3,1,1,1,1,2,1,2,1],\"sizemode\":\"area\",\"sizeref\":0.0175,\"symbol\":\"circle\"},\"mode\":\"markers\",\"name\":\"\",\"showlegend\":false,\"type\":\"scattergeo\"}],\"name\":\"2023\"}]);\n",
       "                        }).then(function(){\n",
       "                            \n",
       "var gd = document.getElementById('214e2b15-db60-4ff9-b3db-da54aef23dc0');\n",
       "var x = new MutationObserver(function (mutations, observer) {{\n",
       "        var display = window.getComputedStyle(gd).display;\n",
       "        if (!display || display === 'none') {{\n",
       "            console.log([gd, 'removed!']);\n",
       "            Plotly.purge(gd);\n",
       "            observer.disconnect();\n",
       "        }}\n",
       "}});\n",
       "\n",
       "// Listen for the removal of the full notebook cells\n",
       "var notebookContainer = gd.closest('#notebook-container');\n",
       "if (notebookContainer) {{\n",
       "    x.observe(notebookContainer, {childList: true});\n",
       "}}\n",
       "\n",
       "// Listen for the clearing of the current output cell\n",
       "var outputEl = gd.closest('.output');\n",
       "if (outputEl) {{\n",
       "    x.observe(outputEl, {childList: true});\n",
       "}}\n",
       "\n",
       "                        })                };                });            </script>        </div>"
      ]
     },
     "metadata": {},
     "output_type": "display_data"
    }
   ],
   "source": [
    "fig.show()"
   ]
  }
 ],
 "metadata": {
  "kernelspec": {
   "display_name": "Python 3 (ipykernel)",
   "language": "python",
   "name": "python3"
  },
  "language_info": {
   "codemirror_mode": {
    "name": "ipython",
    "version": 3
   },
   "file_extension": ".py",
   "mimetype": "text/x-python",
   "name": "python",
   "nbconvert_exporter": "python",
   "pygments_lexer": "ipython3",
   "version": "3.11.2"
  }
 },
 "nbformat": 4,
 "nbformat_minor": 5
}
