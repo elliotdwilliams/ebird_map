{
 "cells": [
  {
   "cell_type": "markdown",
   "id": "af2b3f76-76b7-4049-9afd-e821cb9921e9",
   "metadata": {},
   "source": [
    "# ebird geocoding project\n",
    "\n",
    "My ultimate goal is to make a visualization of the checklist locations in a person's ebird data.  Right now, I'm using this notebook to play with manipulating the data using pandas, then I will move into the geocoding and visualization parts."
   ]
  },
  {
   "cell_type": "code",
   "execution_count": null,
   "id": "306c6f3f-6eea-4973-ac9c-13bc2990998b",
   "metadata": {},
   "outputs": [],
   "source": [
    "import pandas as pd\n",
    "import plotly.express as px\n",
    "import plotly.graph_objects as go"
   ]
  },
  {
   "cell_type": "markdown",
   "id": "ddc7fc12-2c97-4a41-925e-bc35872ab508",
   "metadata": {},
   "source": [
    "Import the ebird data and view some basic info to check it"
   ]
  },
  {
   "cell_type": "code",
   "execution_count": null,
   "id": "10bd984a-b731-4145-aa9a-3ee3fa62ed44",
   "metadata": {},
   "outputs": [],
   "source": [
    "df = pd.read_csv('StevenSelfeBirdData.csv')"
   ]
  },
  {
   "cell_type": "code",
   "execution_count": null,
   "id": "d6f20c8f-c6c8-4f5f-8e52-0f29d05ee41f",
   "metadata": {},
   "outputs": [],
   "source": [
    "print(df.info())"
   ]
  },
  {
   "cell_type": "markdown",
   "id": "b8023dd8-9f5e-4731-8773-280e9de073c3",
   "metadata": {},
   "source": [
    "The only columns I care about right now are: Submission ID (a uniq id for a checklist), state/province, county, location id, location, lat, long, date.  So if I drop all other columns, and then dedup on submission ID, I should have a list of each location and when I visited it. (I think?)"
   ]
  },
  {
   "cell_type": "code",
   "execution_count": null,
   "id": "9c148c03-edf2-44aa-993c-1da2904cd73c",
   "metadata": {},
   "outputs": [],
   "source": [
    "df_locations = df.iloc[:, [0,5,6,7,8,9,10,11]].drop_duplicates(subset='Submission ID')\n",
    "print(df_locations.head())"
   ]
  },
  {
   "cell_type": "markdown",
   "id": "840b3bb0-f3d6-4765-89be-29373f737fd5",
   "metadata": {},
   "source": [
    "View the most visited locations, just for fun."
   ]
  },
  {
   "cell_type": "code",
   "execution_count": null,
   "id": "cb657ba5-ab34-4954-99af-16743dddee68",
   "metadata": {},
   "outputs": [],
   "source": [
    "df_locations.Location.value_counts(normalize=False, sort=True, ascending=False, bins=None, dropna=True)"
   ]
  },
  {
   "cell_type": "markdown",
   "id": "92a5df02-db37-4bb2-a0d0-59ab1fec0550",
   "metadata": {},
   "source": [
    "Add new column for Year"
   ]
  },
  {
   "cell_type": "code",
   "execution_count": null,
   "id": "243d9364-5a77-4e34-8bb9-a6dd45debd42",
   "metadata": {},
   "outputs": [],
   "source": [
    "df_locations['Year'] = df_locations['Date'].apply(lambda x : x[:4])\n",
    "print(df_locations.sort_values('Location ID').head())"
   ]
  },
  {
   "cell_type": "markdown",
   "id": "e95d7682-0894-4a0e-a3dd-a999b8a7549c",
   "metadata": {},
   "source": [
    "Create two new dataframes: one with number of checklists per location per year, and one with the data about each location. Then we'll combine those two to get the final dataframe.\n",
    "\n",
    "*There is almost certainly a more efficient way to do this with pandas, but I can't figure it out.*"
   ]
  },
  {
   "cell_type": "code",
   "execution_count": null,
   "id": "94597350-a933-4332-a3a2-6e500ebcb5b5",
   "metadata": {},
   "outputs": [],
   "source": [
    "df_loc_count = df_locations.groupby([\"Location ID\",\"Year\"], as_index=False)[\"Submission ID\"].count()\n",
    "print(df_loc_count.sort_values('Location ID').head(10))\n",
    "print(df_loc_count.shape)"
   ]
  },
  {
   "cell_type": "code",
   "execution_count": null,
   "id": "020447a1-3efe-40e4-99c5-b23767e0ebe6",
   "metadata": {},
   "outputs": [],
   "source": [
    "df_loc_data = df_locations.iloc[:, [3,4,1,2,5,6]].drop_duplicates(subset='Location ID')\n",
    "print(df_loc_data.sort_values('Location ID').head(10))\n",
    "print(df_loc_data.shape)"
   ]
  },
  {
   "cell_type": "code",
   "execution_count": null,
   "id": "222909a1-243c-4716-8289-40618eeaff2f",
   "metadata": {},
   "outputs": [],
   "source": [
    "# Merge df_loc_count (count of checklists per location) with df_loc_data (geo data about each location)\n",
    "df_merge2 = pd.merge(df_loc_count, df_loc_data, how=\"left\", on=\"Location ID\")\n",
    "df_merge2 = df_merge2.rename(columns={'Submission ID': 'Checklists'}).sort_values(['Year','Location ID'])\n",
    "print(df_merge2.head(10))\n",
    "print(df_merge2.shape)"
   ]
  },
  {
   "cell_type": "code",
   "execution_count": null,
   "id": "b96342fb-3395-4f09-bbb3-33b82bf7cdb0",
   "metadata": {},
   "outputs": [],
   "source": [
    "fig = px.scatter_geo(df_merge2, lat='Latitude', lon='Longitude', title='ebird checklists', size=df_merge2['Checklists']**0.5, hover_name='Location', color='Checklists',\n",
    "                     animation_frame='Year', \n",
    "                     height=600)\n",
    "fig.show()"
   ]
  },
  {
   "cell_type": "code",
   "execution_count": null,
   "id": "903ffda5-5934-4931-9d7d-1bf8f14522a5",
   "metadata": {},
   "outputs": [],
   "source": [
    "# Styling for world map\n",
    "fig.update_geos(projection_type=\"natural earth\",\n",
    "               showcountries=True,\n",
    "               showsubunits=True)\n",
    "fig.show()"
   ]
  },
  {
   "cell_type": "code",
   "execution_count": null,
   "id": "9481fbd4-6c6c-45be-be28-9bda81761de7",
   "metadata": {},
   "outputs": [],
   "source": [
    "# Save figure as html file\n",
    "fig.write_html(\"world_map.html\")"
   ]
  },
  {
   "cell_type": "code",
   "execution_count": null,
   "id": "e2043ec9-1c06-4431-a2e3-3e1d5ea808d3",
   "metadata": {},
   "outputs": [],
   "source": [
    "# Styling for US map\n",
    "# TO DO: currently have to re-run the cell that creates the fig before running this cell. Figure out better way to handle that\n",
    "fig.update_geos(scope='usa',\n",
    "                showcountries=True,\n",
    "                showsubunits=True\n",
    "               )\n",
    "fig.show()"
   ]
  },
  {
   "cell_type": "code",
   "execution_count": null,
   "id": "9a8ee9b6-57bf-4bc3-a1bf-3f974042e49f",
   "metadata": {},
   "outputs": [],
   "source": [
    "# Save figure as html file\n",
    "fig.write_html(\"usa_map.html\")"
   ]
  }
 ],
 "metadata": {
  "kernelspec": {
   "display_name": "Python 3 (ipykernel)",
   "language": "python",
   "name": "python3"
  },
  "language_info": {
   "codemirror_mode": {
    "name": "ipython",
    "version": 3
   },
   "file_extension": ".py",
   "mimetype": "text/x-python",
   "name": "python",
   "nbconvert_exporter": "python",
   "pygments_lexer": "ipython3",
   "version": "3.11.2"
  }
 },
 "nbformat": 4,
 "nbformat_minor": 5
}
